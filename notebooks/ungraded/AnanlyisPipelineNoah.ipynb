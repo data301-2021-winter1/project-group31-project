{
 "cells": [
  {
   "cell_type": "markdown",
   "id": "a9eab93f-caea-46d3-aca6-4d379f189e4c",
   "metadata": {},
   "source": [
    "# Analysis Pipeline"
   ]
  },
  {
   "cell_type": "code",
   "execution_count": 1,
   "id": "24a53299-dbd6-4f5c-aeec-9cef5b7969b8",
   "metadata": {},
   "outputs": [],
   "source": [
    "import numpy as np\n",
    "import pandas as pd\n",
    "import seaborn as sns"
   ]
  },
  {
   "cell_type": "markdown",
   "id": "b628405f-680f-44a8-b0ec-6f17896e5c1c",
   "metadata": {},
   "source": [
    "## Load Data"
   ]
  },
  {
   "cell_type": "code",
   "execution_count": 2,
   "id": "87707b87-fce7-430a-9f0f-69598a80e85d",
   "metadata": {},
   "outputs": [],
   "source": [
    "data = pd.read_csv(\"https://raw.githubusercontent.com/data301-2021-winter1/project-group31-project/main/data/raw/player_info.csv?token=AVQ3DF2RLB4AMTUWXP6QW63BPBZHE\")"
   ]
  },
  {
   "cell_type": "code",
   "execution_count": 3,
   "id": "f89ebbcf-29f7-4250-b2a2-c7bd8478b9cd",
   "metadata": {},
   "outputs": [
    {
     "data": {
      "text/html": [
       "<div>\n",
       "<style scoped>\n",
       "    .dataframe tbody tr th:only-of-type {\n",
       "        vertical-align: middle;\n",
       "    }\n",
       "\n",
       "    .dataframe tbody tr th {\n",
       "        vertical-align: top;\n",
       "    }\n",
       "\n",
       "    .dataframe thead th {\n",
       "        text-align: right;\n",
       "    }\n",
       "</style>\n",
       "<table border=\"1\" class=\"dataframe\">\n",
       "  <thead>\n",
       "    <tr style=\"text-align: right;\">\n",
       "      <th></th>\n",
       "      <th>player_id</th>\n",
       "      <th>firstName</th>\n",
       "      <th>lastName</th>\n",
       "      <th>nationality</th>\n",
       "      <th>birthCity</th>\n",
       "      <th>primaryPosition</th>\n",
       "      <th>birthDate</th>\n",
       "      <th>birthStateProvince</th>\n",
       "      <th>height</th>\n",
       "      <th>height_cm</th>\n",
       "      <th>weight</th>\n",
       "      <th>shootsCatches</th>\n",
       "    </tr>\n",
       "  </thead>\n",
       "  <tbody>\n",
       "    <tr>\n",
       "      <th>0</th>\n",
       "      <td>8466148</td>\n",
       "      <td>Marian</td>\n",
       "      <td>Hossa</td>\n",
       "      <td>SVK</td>\n",
       "      <td>Stará Lubovna</td>\n",
       "      <td>RW</td>\n",
       "      <td>1979-01-12 00:00:00</td>\n",
       "      <td>NaN</td>\n",
       "      <td>6' 1\"</td>\n",
       "      <td>185.42</td>\n",
       "      <td>207.0</td>\n",
       "      <td>L</td>\n",
       "    </tr>\n",
       "    <tr>\n",
       "      <th>1</th>\n",
       "      <td>8465058</td>\n",
       "      <td>Michal</td>\n",
       "      <td>Rozsival</td>\n",
       "      <td>CZE</td>\n",
       "      <td>Vlasim</td>\n",
       "      <td>D</td>\n",
       "      <td>1978-09-03 01:00:00</td>\n",
       "      <td>NaN</td>\n",
       "      <td>6' 1\"</td>\n",
       "      <td>185.42</td>\n",
       "      <td>210.0</td>\n",
       "      <td>R</td>\n",
       "    </tr>\n",
       "    <tr>\n",
       "      <th>2</th>\n",
       "      <td>8476906</td>\n",
       "      <td>Shayne</td>\n",
       "      <td>Gostisbehere</td>\n",
       "      <td>USA</td>\n",
       "      <td>Pembroke Pines</td>\n",
       "      <td>D</td>\n",
       "      <td>1993-04-20 01:00:00</td>\n",
       "      <td>FL</td>\n",
       "      <td>5' 11\"</td>\n",
       "      <td>180.34</td>\n",
       "      <td>180.0</td>\n",
       "      <td>L</td>\n",
       "    </tr>\n",
       "    <tr>\n",
       "      <th>3</th>\n",
       "      <td>8466285</td>\n",
       "      <td>Brian</td>\n",
       "      <td>Campbell</td>\n",
       "      <td>CAN</td>\n",
       "      <td>Strathroy</td>\n",
       "      <td>D</td>\n",
       "      <td>1979-05-23 01:00:00</td>\n",
       "      <td>ON</td>\n",
       "      <td>5' 10\"</td>\n",
       "      <td>177.80</td>\n",
       "      <td>192.0</td>\n",
       "      <td>L</td>\n",
       "    </tr>\n",
       "    <tr>\n",
       "      <th>4</th>\n",
       "      <td>8470607</td>\n",
       "      <td>Brent</td>\n",
       "      <td>Seabrook</td>\n",
       "      <td>CAN</td>\n",
       "      <td>Richmond</td>\n",
       "      <td>D</td>\n",
       "      <td>1985-04-20 01:00:00</td>\n",
       "      <td>BC</td>\n",
       "      <td>6' 3\"</td>\n",
       "      <td>190.50</td>\n",
       "      <td>220.0</td>\n",
       "      <td>R</td>\n",
       "    </tr>\n",
       "    <tr>\n",
       "      <th>...</th>\n",
       "      <td>...</td>\n",
       "      <td>...</td>\n",
       "      <td>...</td>\n",
       "      <td>...</td>\n",
       "      <td>...</td>\n",
       "      <td>...</td>\n",
       "      <td>...</td>\n",
       "      <td>...</td>\n",
       "      <td>...</td>\n",
       "      <td>...</td>\n",
       "      <td>...</td>\n",
       "      <td>...</td>\n",
       "    </tr>\n",
       "    <tr>\n",
       "      <th>3920</th>\n",
       "      <td>8479374</td>\n",
       "      <td>Adam</td>\n",
       "      <td>Mascherin</td>\n",
       "      <td>CAN</td>\n",
       "      <td>Maple</td>\n",
       "      <td>LW</td>\n",
       "      <td>1998-06-06 01:00:00</td>\n",
       "      <td>ON</td>\n",
       "      <td>5' 10\"</td>\n",
       "      <td>177.80</td>\n",
       "      <td>205.0</td>\n",
       "      <td>L</td>\n",
       "    </tr>\n",
       "    <tr>\n",
       "      <th>3921</th>\n",
       "      <td>8479403</td>\n",
       "      <td>Tyler</td>\n",
       "      <td>Parsons</td>\n",
       "      <td>USA</td>\n",
       "      <td>Mt. Clemas</td>\n",
       "      <td>G</td>\n",
       "      <td>1997-09-18 01:00:00</td>\n",
       "      <td>MI</td>\n",
       "      <td>6' 1\"</td>\n",
       "      <td>185.42</td>\n",
       "      <td>185.0</td>\n",
       "      <td>L</td>\n",
       "    </tr>\n",
       "    <tr>\n",
       "      <th>3922</th>\n",
       "      <td>8480970</td>\n",
       "      <td>Marcus</td>\n",
       "      <td>Hogstrom</td>\n",
       "      <td>SWE</td>\n",
       "      <td>Sveg</td>\n",
       "      <td>D</td>\n",
       "      <td>1989-03-20 00:00:00</td>\n",
       "      <td>NaN</td>\n",
       "      <td>6' 4\"</td>\n",
       "      <td>193.04</td>\n",
       "      <td>200.0</td>\n",
       "      <td>L</td>\n",
       "    </tr>\n",
       "    <tr>\n",
       "      <th>3923</th>\n",
       "      <td>8477574</td>\n",
       "      <td>Parker</td>\n",
       "      <td>Milner</td>\n",
       "      <td>USA</td>\n",
       "      <td>Pittsburgh</td>\n",
       "      <td>G</td>\n",
       "      <td>1990-09-06 01:00:00</td>\n",
       "      <td>PA</td>\n",
       "      <td>6' 1\"</td>\n",
       "      <td>185.42</td>\n",
       "      <td>185.0</td>\n",
       "      <td>L</td>\n",
       "    </tr>\n",
       "    <tr>\n",
       "      <th>3924</th>\n",
       "      <td>8477352</td>\n",
       "      <td>Ryan</td>\n",
       "      <td>Fitzgerald</td>\n",
       "      <td>USA</td>\n",
       "      <td>Boca Raton</td>\n",
       "      <td>C</td>\n",
       "      <td>1994-10-19 01:00:00</td>\n",
       "      <td>FL</td>\n",
       "      <td>5' 9\"</td>\n",
       "      <td>175.26</td>\n",
       "      <td>172.0</td>\n",
       "      <td>R</td>\n",
       "    </tr>\n",
       "  </tbody>\n",
       "</table>\n",
       "<p>3925 rows × 12 columns</p>\n",
       "</div>"
      ],
      "text/plain": [
       "      player_id firstName      lastName nationality       birthCity  \\\n",
       "0       8466148    Marian         Hossa         SVK   Stará Lubovna   \n",
       "1       8465058    Michal      Rozsival         CZE          Vlasim   \n",
       "2       8476906    Shayne  Gostisbehere         USA  Pembroke Pines   \n",
       "3       8466285     Brian      Campbell         CAN       Strathroy   \n",
       "4       8470607     Brent      Seabrook         CAN        Richmond   \n",
       "...         ...       ...           ...         ...             ...   \n",
       "3920    8479374      Adam     Mascherin         CAN           Maple   \n",
       "3921    8479403     Tyler       Parsons         USA      Mt. Clemas   \n",
       "3922    8480970    Marcus      Hogstrom         SWE            Sveg   \n",
       "3923    8477574    Parker        Milner         USA      Pittsburgh   \n",
       "3924    8477352      Ryan    Fitzgerald         USA      Boca Raton   \n",
       "\n",
       "     primaryPosition            birthDate birthStateProvince  height  \\\n",
       "0                 RW  1979-01-12 00:00:00                NaN   6' 1\"   \n",
       "1                  D  1978-09-03 01:00:00                NaN   6' 1\"   \n",
       "2                  D  1993-04-20 01:00:00                 FL  5' 11\"   \n",
       "3                  D  1979-05-23 01:00:00                 ON  5' 10\"   \n",
       "4                  D  1985-04-20 01:00:00                 BC   6' 3\"   \n",
       "...              ...                  ...                ...     ...   \n",
       "3920              LW  1998-06-06 01:00:00                 ON  5' 10\"   \n",
       "3921               G  1997-09-18 01:00:00                 MI   6' 1\"   \n",
       "3922               D  1989-03-20 00:00:00                NaN   6' 4\"   \n",
       "3923               G  1990-09-06 01:00:00                 PA   6' 1\"   \n",
       "3924               C  1994-10-19 01:00:00                 FL   5' 9\"   \n",
       "\n",
       "      height_cm  weight shootsCatches  \n",
       "0        185.42   207.0             L  \n",
       "1        185.42   210.0             R  \n",
       "2        180.34   180.0             L  \n",
       "3        177.80   192.0             L  \n",
       "4        190.50   220.0             R  \n",
       "...         ...     ...           ...  \n",
       "3920     177.80   205.0             L  \n",
       "3921     185.42   185.0             L  \n",
       "3922     193.04   200.0             L  \n",
       "3923     185.42   185.0             L  \n",
       "3924     175.26   172.0             R  \n",
       "\n",
       "[3925 rows x 12 columns]"
      ]
     },
     "execution_count": 3,
     "metadata": {},
     "output_type": "execute_result"
    }
   ],
   "source": [
    "data\n",
    "# Loaded data from github repository"
   ]
  },
  {
   "cell_type": "code",
   "execution_count": 4,
   "id": "ad7f8b83-04f1-4dce-beef-dbdc0be2c288",
   "metadata": {},
   "outputs": [
    {
     "data": {
      "text/plain": [
       "(3925, 12)"
      ]
     },
     "execution_count": 4,
     "metadata": {},
     "output_type": "execute_result"
    }
   ],
   "source": [
    "data.shape\n"
   ]
  },
  {
   "cell_type": "code",
   "execution_count": 5,
   "id": "4e0988cf-028c-41f1-9b43-c0c0f2d06bf8",
   "metadata": {},
   "outputs": [
    {
     "data": {
      "text/plain": [
       "Index(['player_id', 'firstName', 'lastName', 'nationality', 'birthCity',\n",
       "       'primaryPosition', 'birthDate', 'birthStateProvince', 'height',\n",
       "       'height_cm', 'weight', 'shootsCatches'],\n",
       "      dtype='object')"
      ]
     },
     "execution_count": 5,
     "metadata": {},
     "output_type": "execute_result"
    }
   ],
   "source": [
    "data.columns\n",
    "# Looking at columns to eventually clean"
   ]
  },
  {
   "cell_type": "code",
   "execution_count": 6,
   "id": "dcd5709f-f2f6-4bbc-a227-56499b60d2d8",
   "metadata": {},
   "outputs": [
    {
     "data": {
      "text/plain": [
       "player_id             3925\n",
       "firstName              928\n",
       "lastName              3153\n",
       "nationality             28\n",
       "birthCity             1436\n",
       "primaryPosition          5\n",
       "birthDate             3291\n",
       "birthStateProvince      50\n",
       "height                  18\n",
       "height_cm               18\n",
       "weight                 102\n",
       "shootsCatches            2\n",
       "dtype: int64"
      ]
     },
     "execution_count": 6,
     "metadata": {},
     "output_type": "execute_result"
    }
   ],
   "source": [
    "data.nunique(axis=0)"
   ]
  },
  {
   "cell_type": "code",
   "execution_count": 7,
   "id": "7fbf0ad0-992d-4b6f-9697-e44dbb88d427",
   "metadata": {},
   "outputs": [
    {
     "data": {
      "text/plain": [
       "player_id               int64\n",
       "firstName              object\n",
       "lastName               object\n",
       "nationality            object\n",
       "birthCity              object\n",
       "primaryPosition        object\n",
       "birthDate              object\n",
       "birthStateProvince     object\n",
       "height                 object\n",
       "height_cm             float64\n",
       "weight                float64\n",
       "shootsCatches          object\n",
       "dtype: object"
      ]
     },
     "execution_count": 7,
     "metadata": {},
     "output_type": "execute_result"
    }
   ],
   "source": [
    "data.dtypes\n",
    "# The formatting and data types of the dataset that I will be working with"
   ]
  },
  {
   "cell_type": "code",
   "execution_count": 8,
   "id": "bd810e3c-9398-49e0-902c-fdb7982c565f",
   "metadata": {},
   "outputs": [],
   "source": [
    "# Dataset is already foratted in an ideal way so checking for delimiters and skipping rows and columns is not needed"
   ]
  },
  {
   "cell_type": "markdown",
   "id": "813cc811-2f32-435e-8f20-50c30f883334",
   "metadata": {},
   "source": [
    "## Clean Data"
   ]
  },
  {
   "cell_type": "code",
   "execution_count": 9,
   "id": "3e1acf9a-66d8-4868-83da-a9897cd4cd1c",
   "metadata": {},
   "outputs": [],
   "source": [
    "# Now it is time to clean the dataset to remove and uneseccary or unrelated colums from the dataset\n",
    "data_cleaned = data.drop(['birthCity','birthDate','birthStateProvince','height'], axis='columns')"
   ]
  },
  {
   "cell_type": "code",
   "execution_count": 10,
   "id": "4ebc4438-0b6b-45b4-90d1-107664e71e9d",
   "metadata": {},
   "outputs": [
    {
     "data": {
      "text/html": [
       "<div>\n",
       "<style scoped>\n",
       "    .dataframe tbody tr th:only-of-type {\n",
       "        vertical-align: middle;\n",
       "    }\n",
       "\n",
       "    .dataframe tbody tr th {\n",
       "        vertical-align: top;\n",
       "    }\n",
       "\n",
       "    .dataframe thead th {\n",
       "        text-align: right;\n",
       "    }\n",
       "</style>\n",
       "<table border=\"1\" class=\"dataframe\">\n",
       "  <thead>\n",
       "    <tr style=\"text-align: right;\">\n",
       "      <th></th>\n",
       "      <th>player_id</th>\n",
       "      <th>firstName</th>\n",
       "      <th>lastName</th>\n",
       "      <th>nationality</th>\n",
       "      <th>primaryPosition</th>\n",
       "      <th>height_cm</th>\n",
       "      <th>weight</th>\n",
       "      <th>shootsCatches</th>\n",
       "    </tr>\n",
       "  </thead>\n",
       "  <tbody>\n",
       "    <tr>\n",
       "      <th>0</th>\n",
       "      <td>8466148</td>\n",
       "      <td>Marian</td>\n",
       "      <td>Hossa</td>\n",
       "      <td>SVK</td>\n",
       "      <td>RW</td>\n",
       "      <td>185.42</td>\n",
       "      <td>207.0</td>\n",
       "      <td>L</td>\n",
       "    </tr>\n",
       "    <tr>\n",
       "      <th>1</th>\n",
       "      <td>8465058</td>\n",
       "      <td>Michal</td>\n",
       "      <td>Rozsival</td>\n",
       "      <td>CZE</td>\n",
       "      <td>D</td>\n",
       "      <td>185.42</td>\n",
       "      <td>210.0</td>\n",
       "      <td>R</td>\n",
       "    </tr>\n",
       "    <tr>\n",
       "      <th>2</th>\n",
       "      <td>8476906</td>\n",
       "      <td>Shayne</td>\n",
       "      <td>Gostisbehere</td>\n",
       "      <td>USA</td>\n",
       "      <td>D</td>\n",
       "      <td>180.34</td>\n",
       "      <td>180.0</td>\n",
       "      <td>L</td>\n",
       "    </tr>\n",
       "    <tr>\n",
       "      <th>3</th>\n",
       "      <td>8466285</td>\n",
       "      <td>Brian</td>\n",
       "      <td>Campbell</td>\n",
       "      <td>CAN</td>\n",
       "      <td>D</td>\n",
       "      <td>177.80</td>\n",
       "      <td>192.0</td>\n",
       "      <td>L</td>\n",
       "    </tr>\n",
       "    <tr>\n",
       "      <th>4</th>\n",
       "      <td>8470607</td>\n",
       "      <td>Brent</td>\n",
       "      <td>Seabrook</td>\n",
       "      <td>CAN</td>\n",
       "      <td>D</td>\n",
       "      <td>190.50</td>\n",
       "      <td>220.0</td>\n",
       "      <td>R</td>\n",
       "    </tr>\n",
       "    <tr>\n",
       "      <th>...</th>\n",
       "      <td>...</td>\n",
       "      <td>...</td>\n",
       "      <td>...</td>\n",
       "      <td>...</td>\n",
       "      <td>...</td>\n",
       "      <td>...</td>\n",
       "      <td>...</td>\n",
       "      <td>...</td>\n",
       "    </tr>\n",
       "    <tr>\n",
       "      <th>3920</th>\n",
       "      <td>8479374</td>\n",
       "      <td>Adam</td>\n",
       "      <td>Mascherin</td>\n",
       "      <td>CAN</td>\n",
       "      <td>LW</td>\n",
       "      <td>177.80</td>\n",
       "      <td>205.0</td>\n",
       "      <td>L</td>\n",
       "    </tr>\n",
       "    <tr>\n",
       "      <th>3921</th>\n",
       "      <td>8479403</td>\n",
       "      <td>Tyler</td>\n",
       "      <td>Parsons</td>\n",
       "      <td>USA</td>\n",
       "      <td>G</td>\n",
       "      <td>185.42</td>\n",
       "      <td>185.0</td>\n",
       "      <td>L</td>\n",
       "    </tr>\n",
       "    <tr>\n",
       "      <th>3922</th>\n",
       "      <td>8480970</td>\n",
       "      <td>Marcus</td>\n",
       "      <td>Hogstrom</td>\n",
       "      <td>SWE</td>\n",
       "      <td>D</td>\n",
       "      <td>193.04</td>\n",
       "      <td>200.0</td>\n",
       "      <td>L</td>\n",
       "    </tr>\n",
       "    <tr>\n",
       "      <th>3923</th>\n",
       "      <td>8477574</td>\n",
       "      <td>Parker</td>\n",
       "      <td>Milner</td>\n",
       "      <td>USA</td>\n",
       "      <td>G</td>\n",
       "      <td>185.42</td>\n",
       "      <td>185.0</td>\n",
       "      <td>L</td>\n",
       "    </tr>\n",
       "    <tr>\n",
       "      <th>3924</th>\n",
       "      <td>8477352</td>\n",
       "      <td>Ryan</td>\n",
       "      <td>Fitzgerald</td>\n",
       "      <td>USA</td>\n",
       "      <td>C</td>\n",
       "      <td>175.26</td>\n",
       "      <td>172.0</td>\n",
       "      <td>R</td>\n",
       "    </tr>\n",
       "  </tbody>\n",
       "</table>\n",
       "<p>3925 rows × 8 columns</p>\n",
       "</div>"
      ],
      "text/plain": [
       "      player_id firstName      lastName nationality primaryPosition  \\\n",
       "0       8466148    Marian         Hossa         SVK              RW   \n",
       "1       8465058    Michal      Rozsival         CZE               D   \n",
       "2       8476906    Shayne  Gostisbehere         USA               D   \n",
       "3       8466285     Brian      Campbell         CAN               D   \n",
       "4       8470607     Brent      Seabrook         CAN               D   \n",
       "...         ...       ...           ...         ...             ...   \n",
       "3920    8479374      Adam     Mascherin         CAN              LW   \n",
       "3921    8479403     Tyler       Parsons         USA               G   \n",
       "3922    8480970    Marcus      Hogstrom         SWE               D   \n",
       "3923    8477574    Parker        Milner         USA               G   \n",
       "3924    8477352      Ryan    Fitzgerald         USA               C   \n",
       "\n",
       "      height_cm  weight shootsCatches  \n",
       "0        185.42   207.0             L  \n",
       "1        185.42   210.0             R  \n",
       "2        180.34   180.0             L  \n",
       "3        177.80   192.0             L  \n",
       "4        190.50   220.0             R  \n",
       "...         ...     ...           ...  \n",
       "3920     177.80   205.0             L  \n",
       "3921     185.42   185.0             L  \n",
       "3922     193.04   200.0             L  \n",
       "3923     185.42   185.0             L  \n",
       "3924     175.26   172.0             R  \n",
       "\n",
       "[3925 rows x 8 columns]"
      ]
     },
     "execution_count": 10,
     "metadata": {},
     "output_type": "execute_result"
    }
   ],
   "source": [
    "# I removed the birth city, birth date, birth state / province, and height because I am focusing on the demographics\n",
    "# and shoting or catching hands of players to see how origin countries affect the average handedness\n",
    "data_cleaned\n"
   ]
  },
  {
   "cell_type": "code",
   "execution_count": 11,
   "id": "49353612-20c1-4fe5-a75c-93972993bb26",
   "metadata": {},
   "outputs": [],
   "source": [
    "# If I wanted to see the whole dataset I would have used the codes\n",
    "# pd.set_option('max_columns', None)\n",
    "# pd.set_option('max_rows', None)\n",
    "# But the dataset is very large and running that code would make navigating the analysis pipeline an arduous task"
   ]
  },
  {
   "cell_type": "code",
   "execution_count": 12,
   "id": "507b2cb4-4ec5-498f-91fe-16897e403b95",
   "metadata": {},
   "outputs": [],
   "source": [
    "#The dataset is a list of active and former NHL players and is purely statistical information regarding the players\n",
    "# individual stats. As such there is no missing data as the information for each player has been compiled into the\n",
    "# dataset."
   ]
  },
  {
   "cell_type": "markdown",
   "id": "c1a9da2c-bb9f-42f5-bff7-20073872a6e7",
   "metadata": {},
   "source": [
    "## Process Data"
   ]
  },
  {
   "cell_type": "code",
   "execution_count": 13,
   "id": "359428fb-40c4-40c1-a28f-a8b30820e43e",
   "metadata": {},
   "outputs": [],
   "source": [
    "df=data_cleaned"
   ]
  },
  {
   "cell_type": "code",
   "execution_count": 14,
   "id": "18d3312e-dbea-4a8b-a387-9f4910cc1fcb",
   "metadata": {},
   "outputs": [],
   "source": [
    "df['shootsCatches'] = df['shootsCatches'].replace(['L','R'],['1','2'])"
   ]
  },
  {
   "cell_type": "code",
   "execution_count": null,
   "id": "4d489247-0f9a-48a0-b53f-e06ac14fff22",
   "metadata": {},
   "outputs": [],
   "source": [
    "#I am going to convert both the shootsCatches and nationality values into float64 types so that I can utilize \n",
    "# the data in graph forms from seaborn and pandas\n"
   ]
  },
  {
   "cell_type": "code",
   "execution_count": 15,
   "id": "9b54e61b-dc9d-4e62-9dc5-783123d40de2",
   "metadata": {},
   "outputs": [
    {
     "data": {
      "text/plain": [
       "player_id            int64\n",
       "firstName           object\n",
       "lastName            object\n",
       "nationality         object\n",
       "primaryPosition     object\n",
       "height_cm          float64\n",
       "weight             float64\n",
       "shootsCatches       object\n",
       "dtype: object"
      ]
     },
     "execution_count": 15,
     "metadata": {},
     "output_type": "execute_result"
    }
   ],
   "source": [
    "df.dtypes"
   ]
  },
  {
   "cell_type": "code",
   "execution_count": 16,
   "id": "16dfa331-bf62-48d8-b4d0-c6f3832b0917",
   "metadata": {},
   "outputs": [
    {
     "data": {
      "text/plain": [
       "0       1\n",
       "1       2\n",
       "2       1\n",
       "3       1\n",
       "4       2\n",
       "       ..\n",
       "3920    1\n",
       "3921    1\n",
       "3922    1\n",
       "3923    1\n",
       "3924    2\n",
       "Name: shootsCatches, Length: 3925, dtype: object"
      ]
     },
     "execution_count": 16,
     "metadata": {},
     "output_type": "execute_result"
    }
   ],
   "source": [
    "df['shootsCatches'].astype(str)"
   ]
  },
  {
   "cell_type": "code",
   "execution_count": 17,
   "id": "9c307262-bc85-4e0a-9c83-9f06513d3852",
   "metadata": {},
   "outputs": [
    {
     "data": {
      "text/plain": [
       "0       1.0\n",
       "1       2.0\n",
       "2       1.0\n",
       "3       1.0\n",
       "4       2.0\n",
       "       ... \n",
       "3920    1.0\n",
       "3921    1.0\n",
       "3922    1.0\n",
       "3923    1.0\n",
       "3924    2.0\n",
       "Name: shootsCatches, Length: 3925, dtype: float64"
      ]
     },
     "execution_count": 17,
     "metadata": {},
     "output_type": "execute_result"
    }
   ],
   "source": [
    "pd.to_numeric(df['shootsCatches'])"
   ]
  },
  {
   "cell_type": "code",
   "execution_count": 18,
   "id": "3d6fd9a3-54ff-4b0a-8bef-3cefdce309cb",
   "metadata": {},
   "outputs": [],
   "source": [
    "df['shootsCatches'] = pd.to_numeric(df['shootsCatches'])"
   ]
  },
  {
   "cell_type": "code",
   "execution_count": 19,
   "id": "edbba79e-8188-44a0-88b8-046e76b00f9f",
   "metadata": {},
   "outputs": [
    {
     "data": {
      "text/plain": [
       "0       1.0\n",
       "1       2.0\n",
       "2       1.0\n",
       "3       1.0\n",
       "4       2.0\n",
       "       ... \n",
       "3920    1.0\n",
       "3921    1.0\n",
       "3922    1.0\n",
       "3923    1.0\n",
       "3924    2.0\n",
       "Name: shootsCatches, Length: 3925, dtype: float64"
      ]
     },
     "execution_count": 19,
     "metadata": {},
     "output_type": "execute_result"
    }
   ],
   "source": [
    "df['shootsCatches']"
   ]
  },
  {
   "cell_type": "code",
   "execution_count": 20,
   "id": "9af1b532-9d59-44f1-8989-cb731eab84e7",
   "metadata": {},
   "outputs": [
    {
     "data": {
      "text/plain": [
       "player_id            int64\n",
       "firstName           object\n",
       "lastName            object\n",
       "nationality         object\n",
       "primaryPosition     object\n",
       "height_cm          float64\n",
       "weight             float64\n",
       "shootsCatches      float64\n",
       "dtype: object"
      ]
     },
     "execution_count": 20,
     "metadata": {},
     "output_type": "execute_result"
    }
   ],
   "source": [
    "df.dtypes"
   ]
  },
  {
   "cell_type": "code",
   "execution_count": 21,
   "id": "51a38d95-395e-4e5f-98c5-41b7d8670721",
   "metadata": {},
   "outputs": [
    {
     "data": {
      "image/png": "[encoded data removed]",
      "text/plain": [
       "<Figure size 432x288 with 1 Axes>"
      ]
     },
     "metadata": {
      "needs_background": "light"
     },
     "output_type": "display_data"
    }
   ],
   "source": [
    "hist = df['shootsCatches'].hist(bins=100)"
   ]
  },
  {
   "cell_type": "code",
   "execution_count": null,
   "id": "57aafbec-31e9-4210-8783-dc7e90e35d70",
   "metadata": {},
   "outputs": [],
   "source": [
    "# Now that the shootsCatches values are float64 values I can move onto the nationality values"
   ]
  },
  {
   "cell_type": "code",
   "execution_count": 22,
   "id": "3396fd6c-661b-464e-a21a-636eedf5b756",
   "metadata": {},
   "outputs": [
    {
     "data": {
      "text/plain": [
       "0       SVK\n",
       "1       CZE\n",
       "2       USA\n",
       "3       CAN\n",
       "4       CAN\n",
       "       ... \n",
       "3920    CAN\n",
       "3921    USA\n",
       "3922    SWE\n",
       "3923    USA\n",
       "3924    USA\n",
       "Name: nationality, Length: 3925, dtype: object"
      ]
     },
     "execution_count": 22,
     "metadata": {},
     "output_type": "execute_result"
    }
   ],
   "source": [
    "df['nationality'].astype(str)"
   ]
  },
  {
   "cell_type": "code",
   "execution_count": 23,
   "id": "f073e295-fdd6-4b8e-8561-ac2029a953ef",
   "metadata": {},
   "outputs": [
    {
     "name": "stdout",
     "output_type": "stream",
     "text": [
      "['SVK' 'CZE' 'USA' 'CAN' 'SWE' 'RUS' 'FRA' 'CHE' 'AUT' 'DEU' 'LVA' 'FIN'\n",
      " 'DNK' 'NOR' 'SVN' 'NLD' 'GBR' 'LTU' 'HRV' 'AUS' 'BLR' nan 'UKR' 'KAZ'\n",
      " 'NGA' 'BHS' 'JPN' 'POL' 'ITA']\n"
     ]
    }
   ],
   "source": [
    "print(pd.unique(data_cleaned['nationality']))"
   ]
  },
  {
   "cell_type": "code",
   "execution_count": null,
   "id": "c57664cf-45c2-4599-a64b-265bac1f9ca9",
   "metadata": {},
   "outputs": [],
   "source": []
  },
  {
   "cell_type": "code",
   "execution_count": 24,
   "id": "77527d30-2601-41da-8dfa-bd61c6bf3f41",
   "metadata": {},
   "outputs": [],
   "source": [
    "df['nationality'] = df['nationality'].replace(['SVK','CZE','USA','CAN','SWE','RUS','FRA','CHE','AUT','DEU','LVA','FIN','DNK','NOR','SVN','NLD','GBR','LTU','HRV','AUS','BLR','nan','UKR','KAZ','NGA','BHS','JPN','POL','ITA'],['1','2','3','4','5','6','7','8','9','10','11','12','13','14','15','16','17','18','19','20','21','22','23','24','25','26','27','28','29'])"
   ]
  },
  {
   "cell_type": "code",
   "execution_count": 25,
   "id": "02c57290-3399-4a3c-9c0c-629e3c7aac74",
   "metadata": {},
   "outputs": [
    {
     "name": "stdout",
     "output_type": "stream",
     "text": [
      "['1' '2' '3' '4' '5' '6' '7' '8' '9' '10' '11' '12' '13' '14' '15' '16'\n",
      " '17' '18' '19' '20' '21' nan '23' '24' '25' '26' '27' '28' '29']\n"
     ]
    }
   ],
   "source": [
    "print(pd.unique(data_cleaned['nationality']))"
   ]
  },
  {
   "cell_type": "code",
   "execution_count": 27,
   "id": "5f4f17a5-2360-4674-b55b-10177467ab5b",
   "metadata": {},
   "outputs": [
    {
     "data": {
      "text/plain": [
       "0       1\n",
       "1       2\n",
       "2       3\n",
       "3       4\n",
       "4       4\n",
       "       ..\n",
       "3920    4\n",
       "3921    3\n",
       "3922    5\n",
       "3923    3\n",
       "3924    3\n",
       "Name: nationality, Length: 3925, dtype: object"
      ]
     },
     "execution_count": 27,
     "metadata": {},
     "output_type": "execute_result"
    }
   ],
   "source": [
    "df['nationality'].astype(str)"
   ]
  },
  {
   "cell_type": "code",
   "execution_count": 28,
   "id": "c0e25489-6805-40ab-9944-14ba38ba7fcc",
   "metadata": {},
   "outputs": [
    {
     "data": {
      "text/plain": [
       "0       1.0\n",
       "1       2.0\n",
       "2       3.0\n",
       "3       4.0\n",
       "4       4.0\n",
       "       ... \n",
       "3920    4.0\n",
       "3921    3.0\n",
       "3922    5.0\n",
       "3923    3.0\n",
       "3924    3.0\n",
       "Name: nationality, Length: 3925, dtype: float64"
      ]
     },
     "execution_count": 28,
     "metadata": {},
     "output_type": "execute_result"
    }
   ],
   "source": [
    "pd.to_numeric(df['nationality'])"
   ]
  },
  {
   "cell_type": "code",
   "execution_count": 29,
   "id": "6fe8da03-3eb9-4b9b-bd70-2b66318b7ab1",
   "metadata": {},
   "outputs": [
    {
     "data": {
      "text/plain": [
       "player_id            int64\n",
       "firstName           object\n",
       "lastName            object\n",
       "nationality         object\n",
       "primaryPosition     object\n",
       "height_cm          float64\n",
       "weight             float64\n",
       "shootsCatches      float64\n",
       "dtype: object"
      ]
     },
     "execution_count": 29,
     "metadata": {},
     "output_type": "execute_result"
    }
   ],
   "source": [
    "df.dtypes"
   ]
  },
  {
   "cell_type": "code",
   "execution_count": 33,
   "id": "1f9fb78a-4b36-4302-b66d-a9ba1c1c8421",
   "metadata": {},
   "outputs": [],
   "source": [
    "df['nationality'] = pd.to_numeric(df['nationality'])"
   ]
  },
  {
   "cell_type": "code",
   "execution_count": 34,
   "id": "265464e9-defe-414a-8ba2-2c8c3b4216b5",
   "metadata": {},
   "outputs": [
    {
     "data": {
      "text/plain": [
       "player_id            int64\n",
       "firstName           object\n",
       "lastName            object\n",
       "nationality        float64\n",
       "primaryPosition     object\n",
       "height_cm          float64\n",
       "weight             float64\n",
       "shootsCatches      float64\n",
       "dtype: object"
      ]
     },
     "execution_count": 34,
     "metadata": {},
     "output_type": "execute_result"
    }
   ],
   "source": [
    "df.dtypes"
   ]
  },
  {
   "cell_type": "code",
   "execution_count": null,
   "id": "b654cac1-8c65-443d-b6b2-cc023fa37baf",
   "metadata": {},
   "outputs": [],
   "source": [
    "# Now that both nationality and shootsCatches are float64 values I can use seaborn graphs and pandas graphs to\n",
    "# visualize"
   ]
  },
  {
   "cell_type": "code",
   "execution_count": 54,
   "id": "a102201d-835f-4b2a-bf8f-ce68c5b447d2",
   "metadata": {},
   "outputs": [
    {
     "data": {
      "image/png": "[encoded data removed]",
      "text/plain": [
       "<Figure size 1440x720 with 1 Axes>"
      ]
     },
     "metadata": {},
     "output_type": "display_data"
    }
   ],
   "source": [
    "sns.countplot(y='shootsCatches',data=data_cleaned)\n",
    "sns.despine()"
   ]
  },
  {
   "cell_type": "code",
   "execution_count": 55,
   "id": "5a8f1cbf-e03f-4e5a-9c9c-ed58d862663f",
   "metadata": {},
   "outputs": [
    {
     "data": {
      "image/png": "[encoded data removed]",
      "text/plain": [
       "<Figure size 1440x720 with 1 Axes>"
      ]
     },
     "metadata": {},
     "output_type": "display_data"
    }
   ],
   "source": [
    "sns.set(rc = {'figure.figsize':(20,10)})\n",
    "sns.countplot(x='nationality',data=data_cleaned,)\n",
    "sns.despine()"
   ]
  },
  {
   "cell_type": "code",
   "execution_count": 53,
   "id": "943627e0-6636-4f01-b595-a8d56a38995b",
   "metadata": {},
   "outputs": [
    {
     "data": {
      "image/png": "[encoded data removed]",
      "text/plain": [
       "<Figure size 1440x720 with 1 Axes>"
      ]
     },
     "metadata": {},
     "output_type": "display_data"
    }
   ],
   "source": [
    "sns.set(rc = {'figure.figsize':(20,10)})\n",
    "sns.countplot(x='nationality',hue='shootsCatches',data=data_cleaned,)\n",
    "sns.despine()"
   ]
  },
  {
   "cell_type": "code",
   "execution_count": null,
   "id": "7770f6d7-afed-4721-b1d1-0d8824f98fe8",
   "metadata": {},
   "outputs": [],
   "source": []
  }
 ],
 "metadata": {
  "kernelspec": {
   "display_name": "Python 3",
   "language": "python",
   "name": "python3"
  },
  "language_info": {
   "codemirror_mode": {
    "name": "ipython",
    "version": 3
   },
   "file_extension": ".py",
   "mimetype": "text/x-python",
   "name": "python",
   "nbconvert_exporter": "python",
   "pygments_lexer": "ipython3",
   "version": "3.9.5"
  }
 },
 "nbformat": 4,
 "nbformat_minor": 5
}
