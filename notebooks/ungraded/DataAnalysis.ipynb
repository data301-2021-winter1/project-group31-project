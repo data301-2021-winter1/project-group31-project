{
 "cells": [
  {
   "cell_type": "markdown",
   "id": "076bfcaf-97ae-4efd-aad8-d75430f30bbb",
   "metadata": {},
   "source": [
    "# Data Analysis"
   ]
  },
  {
   "cell_type": "markdown",
   "id": "5a056b06-3656-4568-9780-215abdee987f",
   "metadata": {},
   "source": [
    "## Jeremy"
   ]
  },
  {
   "cell_type": "markdown",
   "id": "c38051f0-c89b-4f8f-ae7c-05c635a932b1",
   "metadata": {
    "tags": []
   },
   "source": [
    "## Imoprt Data Table"
   ]
  },
  {
   "cell_type": "code",
   "execution_count": 1,
   "id": "1e697241-4947-41f9-98c4-2ea2c5bf5222",
   "metadata": {},
   "outputs": [],
   "source": [
    "import pandas as pd\n",
    "import numpy as np\n",
    "import seaborn as sns"
   ]
  },
  {
   "cell_type": "code",
   "execution_count": 2,
   "id": "0e776f15-139b-4b3a-adcd-83ca3fc68b9a",
   "metadata": {},
   "outputs": [],
   "source": [
    "data = pd.read_csv(\"/Users/JeremyScarcella/project-group31-project/player_info.csv\")"
   ]
  },
  {
   "cell_type": "code",
   "execution_count": 3,
   "id": "7d9fbfed-24ad-4b46-bd25-3efda108f50d",
   "metadata": {},
   "outputs": [
    {
     "data": {
      "text/html": [
       "<div>\n",
       "<style scoped>\n",
       "    .dataframe tbody tr th:only-of-type {\n",
       "        vertical-align: middle;\n",
       "    }\n",
       "\n",
       "    .dataframe tbody tr th {\n",
       "        vertical-align: top;\n",
       "    }\n",
       "\n",
       "    .dataframe thead th {\n",
       "        text-align: right;\n",
       "    }\n",
       "</style>\n",
       "<table border=\"1\" class=\"dataframe\">\n",
       "  <thead>\n",
       "    <tr style=\"text-align: right;\">\n",
       "      <th></th>\n",
       "      <th>player_id</th>\n",
       "      <th>firstName</th>\n",
       "      <th>lastName</th>\n",
       "      <th>nationality</th>\n",
       "      <th>birthCity</th>\n",
       "      <th>primaryPosition</th>\n",
       "      <th>birthDate</th>\n",
       "      <th>birthStateProvince</th>\n",
       "      <th>height</th>\n",
       "      <th>height_cm</th>\n",
       "      <th>weight</th>\n",
       "      <th>shootsCatches</th>\n",
       "    </tr>\n",
       "  </thead>\n",
       "  <tbody>\n",
       "    <tr>\n",
       "      <th>0</th>\n",
       "      <td>8466148</td>\n",
       "      <td>Marian</td>\n",
       "      <td>Hossa</td>\n",
       "      <td>SVK</td>\n",
       "      <td>Stará Lubovna</td>\n",
       "      <td>RW</td>\n",
       "      <td>1979-01-12 00:00:00</td>\n",
       "      <td>NaN</td>\n",
       "      <td>6' 1\"</td>\n",
       "      <td>185.42</td>\n",
       "      <td>207.0</td>\n",
       "      <td>L</td>\n",
       "    </tr>\n",
       "    <tr>\n",
       "      <th>1</th>\n",
       "      <td>8465058</td>\n",
       "      <td>Michal</td>\n",
       "      <td>Rozsival</td>\n",
       "      <td>CZE</td>\n",
       "      <td>Vlasim</td>\n",
       "      <td>D</td>\n",
       "      <td>1978-09-03 01:00:00</td>\n",
       "      <td>NaN</td>\n",
       "      <td>6' 1\"</td>\n",
       "      <td>185.42</td>\n",
       "      <td>210.0</td>\n",
       "      <td>R</td>\n",
       "    </tr>\n",
       "    <tr>\n",
       "      <th>2</th>\n",
       "      <td>8476906</td>\n",
       "      <td>Shayne</td>\n",
       "      <td>Gostisbehere</td>\n",
       "      <td>USA</td>\n",
       "      <td>Pembroke Pines</td>\n",
       "      <td>D</td>\n",
       "      <td>1993-04-20 01:00:00</td>\n",
       "      <td>FL</td>\n",
       "      <td>5' 11\"</td>\n",
       "      <td>180.34</td>\n",
       "      <td>180.0</td>\n",
       "      <td>L</td>\n",
       "    </tr>\n",
       "    <tr>\n",
       "      <th>3</th>\n",
       "      <td>8466285</td>\n",
       "      <td>Brian</td>\n",
       "      <td>Campbell</td>\n",
       "      <td>CAN</td>\n",
       "      <td>Strathroy</td>\n",
       "      <td>D</td>\n",
       "      <td>1979-05-23 01:00:00</td>\n",
       "      <td>ON</td>\n",
       "      <td>5' 10\"</td>\n",
       "      <td>177.80</td>\n",
       "      <td>192.0</td>\n",
       "      <td>L</td>\n",
       "    </tr>\n",
       "    <tr>\n",
       "      <th>4</th>\n",
       "      <td>8470607</td>\n",
       "      <td>Brent</td>\n",
       "      <td>Seabrook</td>\n",
       "      <td>CAN</td>\n",
       "      <td>Richmond</td>\n",
       "      <td>D</td>\n",
       "      <td>1985-04-20 01:00:00</td>\n",
       "      <td>BC</td>\n",
       "      <td>6' 3\"</td>\n",
       "      <td>190.50</td>\n",
       "      <td>220.0</td>\n",
       "      <td>R</td>\n",
       "    </tr>\n",
       "    <tr>\n",
       "      <th>...</th>\n",
       "      <td>...</td>\n",
       "      <td>...</td>\n",
       "      <td>...</td>\n",
       "      <td>...</td>\n",
       "      <td>...</td>\n",
       "      <td>...</td>\n",
       "      <td>...</td>\n",
       "      <td>...</td>\n",
       "      <td>...</td>\n",
       "      <td>...</td>\n",
       "      <td>...</td>\n",
       "      <td>...</td>\n",
       "    </tr>\n",
       "    <tr>\n",
       "      <th>3920</th>\n",
       "      <td>8479374</td>\n",
       "      <td>Adam</td>\n",
       "      <td>Mascherin</td>\n",
       "      <td>CAN</td>\n",
       "      <td>Maple</td>\n",
       "      <td>LW</td>\n",
       "      <td>1998-06-06 01:00:00</td>\n",
       "      <td>ON</td>\n",
       "      <td>5' 10\"</td>\n",
       "      <td>177.80</td>\n",
       "      <td>205.0</td>\n",
       "      <td>L</td>\n",
       "    </tr>\n",
       "    <tr>\n",
       "      <th>3921</th>\n",
       "      <td>8479403</td>\n",
       "      <td>Tyler</td>\n",
       "      <td>Parsons</td>\n",
       "      <td>USA</td>\n",
       "      <td>Mt. Clemas</td>\n",
       "      <td>G</td>\n",
       "      <td>1997-09-18 01:00:00</td>\n",
       "      <td>MI</td>\n",
       "      <td>6' 1\"</td>\n",
       "      <td>185.42</td>\n",
       "      <td>185.0</td>\n",
       "      <td>L</td>\n",
       "    </tr>\n",
       "    <tr>\n",
       "      <th>3922</th>\n",
       "      <td>8480970</td>\n",
       "      <td>Marcus</td>\n",
       "      <td>Hogstrom</td>\n",
       "      <td>SWE</td>\n",
       "      <td>Sveg</td>\n",
       "      <td>D</td>\n",
       "      <td>1989-03-20 00:00:00</td>\n",
       "      <td>NaN</td>\n",
       "      <td>6' 4\"</td>\n",
       "      <td>193.04</td>\n",
       "      <td>200.0</td>\n",
       "      <td>L</td>\n",
       "    </tr>\n",
       "    <tr>\n",
       "      <th>3923</th>\n",
       "      <td>8477574</td>\n",
       "      <td>Parker</td>\n",
       "      <td>Milner</td>\n",
       "      <td>USA</td>\n",
       "      <td>Pittsburgh</td>\n",
       "      <td>G</td>\n",
       "      <td>1990-09-06 01:00:00</td>\n",
       "      <td>PA</td>\n",
       "      <td>6' 1\"</td>\n",
       "      <td>185.42</td>\n",
       "      <td>185.0</td>\n",
       "      <td>L</td>\n",
       "    </tr>\n",
       "    <tr>\n",
       "      <th>3924</th>\n",
       "      <td>8477352</td>\n",
       "      <td>Ryan</td>\n",
       "      <td>Fitzgerald</td>\n",
       "      <td>USA</td>\n",
       "      <td>Boca Raton</td>\n",
       "      <td>C</td>\n",
       "      <td>1994-10-19 01:00:00</td>\n",
       "      <td>FL</td>\n",
       "      <td>5' 9\"</td>\n",
       "      <td>175.26</td>\n",
       "      <td>172.0</td>\n",
       "      <td>R</td>\n",
       "    </tr>\n",
       "  </tbody>\n",
       "</table>\n",
       "<p>3925 rows × 12 columns</p>\n",
       "</div>"
      ],
      "text/plain": [
       "      player_id firstName      lastName nationality       birthCity  \\\n",
       "0       8466148    Marian         Hossa         SVK   Stará Lubovna   \n",
       "1       8465058    Michal      Rozsival         CZE          Vlasim   \n",
       "2       8476906    Shayne  Gostisbehere         USA  Pembroke Pines   \n",
       "3       8466285     Brian      Campbell         CAN       Strathroy   \n",
       "4       8470607     Brent      Seabrook         CAN        Richmond   \n",
       "...         ...       ...           ...         ...             ...   \n",
       "3920    8479374      Adam     Mascherin         CAN           Maple   \n",
       "3921    8479403     Tyler       Parsons         USA      Mt. Clemas   \n",
       "3922    8480970    Marcus      Hogstrom         SWE            Sveg   \n",
       "3923    8477574    Parker        Milner         USA      Pittsburgh   \n",
       "3924    8477352      Ryan    Fitzgerald         USA      Boca Raton   \n",
       "\n",
       "     primaryPosition            birthDate birthStateProvince  height  \\\n",
       "0                 RW  1979-01-12 00:00:00                NaN   6' 1\"   \n",
       "1                  D  1978-09-03 01:00:00                NaN   6' 1\"   \n",
       "2                  D  1993-04-20 01:00:00                 FL  5' 11\"   \n",
       "3                  D  1979-05-23 01:00:00                 ON  5' 10\"   \n",
       "4                  D  1985-04-20 01:00:00                 BC   6' 3\"   \n",
       "...              ...                  ...                ...     ...   \n",
       "3920              LW  1998-06-06 01:00:00                 ON  5' 10\"   \n",
       "3921               G  1997-09-18 01:00:00                 MI   6' 1\"   \n",
       "3922               D  1989-03-20 00:00:00                NaN   6' 4\"   \n",
       "3923               G  1990-09-06 01:00:00                 PA   6' 1\"   \n",
       "3924               C  1994-10-19 01:00:00                 FL   5' 9\"   \n",
       "\n",
       "      height_cm  weight shootsCatches  \n",
       "0        185.42   207.0             L  \n",
       "1        185.42   210.0             R  \n",
       "2        180.34   180.0             L  \n",
       "3        177.80   192.0             L  \n",
       "4        190.50   220.0             R  \n",
       "...         ...     ...           ...  \n",
       "3920     177.80   205.0             L  \n",
       "3921     185.42   185.0             L  \n",
       "3922     193.04   200.0             L  \n",
       "3923     185.42   185.0             L  \n",
       "3924     175.26   172.0             R  \n",
       "\n",
       "[3925 rows x 12 columns]"
      ]
     },
     "execution_count": 3,
     "metadata": {},
     "output_type": "execute_result"
    }
   ],
   "source": [
    "data"
   ]
  },
  {
   "cell_type": "markdown",
   "id": "fc153e22-c19c-49c1-aebd-add0616da27b",
   "metadata": {},
   "source": [
    "The following is the csv file from our dataset called player_info displayed using pandas. The information presented includes the players apart of the National Hockey League along with demographic information and portions or basic hockey information. The demographic information includes where the player was born including the country the state/province, the city and their birth date. Furthermore, their heights in both centimeters and inches is inlcuded along with their weights in pounds. The hockey information that is included is simple variables including what position they play and which hand they shoot with. Not all the information in the dataset will be used and futher along the analysis it will be cleaned. "
   ]
  },
  {
   "cell_type": "markdown",
   "id": "12729f3f-fdff-4f68-bbfb-73e3fec4c01b",
   "metadata": {},
   "source": [
    "# Clean and Wrangle Data"
   ]
  },
  {
   "cell_type": "code",
   "execution_count": 4,
   "id": "80db9656-5314-46c5-8341-5be8f54753e8",
   "metadata": {},
   "outputs": [],
   "source": [
    "data1 = (data.drop('height', axis=1)\n",
    "        .drop('birthCity', axis=1)\n",
    "        .drop('birthDate', axis=1)\n",
    "        .drop('birthStateProvince', axis=1)\n",
    "        .rename(columns={\"player_id\": \"Player ID\"})                                       \n",
    "        .rename(index={\"D\": \"Defence\"})\n",
    "        .rename(index={\"G\": \"Goalie\"})\n",
    "        .rename(index={\"C\": \"Center\"})\n",
    "        .rename(index={\"RW\": \"Right Wing\"})\n",
    "        .rename(index={\"LW\": \"Left Wing\"}) \n",
    "         \n",
    "        )"
   ]
  },
  {
   "cell_type": "code",
   "execution_count": 5,
   "id": "909c9a3a-cdaa-462a-96ce-28aedb3dad46",
   "metadata": {},
   "outputs": [
    {
     "data": {
      "text/html": [
       "<div>\n",
       "<style scoped>\n",
       "    .dataframe tbody tr th:only-of-type {\n",
       "        vertical-align: middle;\n",
       "    }\n",
       "\n",
       "    .dataframe tbody tr th {\n",
       "        vertical-align: top;\n",
       "    }\n",
       "\n",
       "    .dataframe thead th {\n",
       "        text-align: right;\n",
       "    }\n",
       "</style>\n",
       "<table border=\"1\" class=\"dataframe\">\n",
       "  <thead>\n",
       "    <tr style=\"text-align: right;\">\n",
       "      <th></th>\n",
       "      <th>Player ID</th>\n",
       "      <th>firstName</th>\n",
       "      <th>lastName</th>\n",
       "      <th>nationality</th>\n",
       "      <th>primaryPosition</th>\n",
       "      <th>height_cm</th>\n",
       "      <th>weight</th>\n",
       "      <th>shootsCatches</th>\n",
       "    </tr>\n",
       "  </thead>\n",
       "  <tbody>\n",
       "    <tr>\n",
       "      <th>0</th>\n",
       "      <td>8466148</td>\n",
       "      <td>Marian</td>\n",
       "      <td>Hossa</td>\n",
       "      <td>SVK</td>\n",
       "      <td>RW</td>\n",
       "      <td>185.42</td>\n",
       "      <td>207.0</td>\n",
       "      <td>L</td>\n",
       "    </tr>\n",
       "    <tr>\n",
       "      <th>1</th>\n",
       "      <td>8465058</td>\n",
       "      <td>Michal</td>\n",
       "      <td>Rozsival</td>\n",
       "      <td>CZE</td>\n",
       "      <td>D</td>\n",
       "      <td>185.42</td>\n",
       "      <td>210.0</td>\n",
       "      <td>R</td>\n",
       "    </tr>\n",
       "    <tr>\n",
       "      <th>2</th>\n",
       "      <td>8476906</td>\n",
       "      <td>Shayne</td>\n",
       "      <td>Gostisbehere</td>\n",
       "      <td>USA</td>\n",
       "      <td>D</td>\n",
       "      <td>180.34</td>\n",
       "      <td>180.0</td>\n",
       "      <td>L</td>\n",
       "    </tr>\n",
       "    <tr>\n",
       "      <th>3</th>\n",
       "      <td>8466285</td>\n",
       "      <td>Brian</td>\n",
       "      <td>Campbell</td>\n",
       "      <td>CAN</td>\n",
       "      <td>D</td>\n",
       "      <td>177.80</td>\n",
       "      <td>192.0</td>\n",
       "      <td>L</td>\n",
       "    </tr>\n",
       "    <tr>\n",
       "      <th>4</th>\n",
       "      <td>8470607</td>\n",
       "      <td>Brent</td>\n",
       "      <td>Seabrook</td>\n",
       "      <td>CAN</td>\n",
       "      <td>D</td>\n",
       "      <td>190.50</td>\n",
       "      <td>220.0</td>\n",
       "      <td>R</td>\n",
       "    </tr>\n",
       "    <tr>\n",
       "      <th>...</th>\n",
       "      <td>...</td>\n",
       "      <td>...</td>\n",
       "      <td>...</td>\n",
       "      <td>...</td>\n",
       "      <td>...</td>\n",
       "      <td>...</td>\n",
       "      <td>...</td>\n",
       "      <td>...</td>\n",
       "    </tr>\n",
       "    <tr>\n",
       "      <th>3920</th>\n",
       "      <td>8479374</td>\n",
       "      <td>Adam</td>\n",
       "      <td>Mascherin</td>\n",
       "      <td>CAN</td>\n",
       "      <td>LW</td>\n",
       "      <td>177.80</td>\n",
       "      <td>205.0</td>\n",
       "      <td>L</td>\n",
       "    </tr>\n",
       "    <tr>\n",
       "      <th>3921</th>\n",
       "      <td>8479403</td>\n",
       "      <td>Tyler</td>\n",
       "      <td>Parsons</td>\n",
       "      <td>USA</td>\n",
       "      <td>G</td>\n",
       "      <td>185.42</td>\n",
       "      <td>185.0</td>\n",
       "      <td>L</td>\n",
       "    </tr>\n",
       "    <tr>\n",
       "      <th>3922</th>\n",
       "      <td>8480970</td>\n",
       "      <td>Marcus</td>\n",
       "      <td>Hogstrom</td>\n",
       "      <td>SWE</td>\n",
       "      <td>D</td>\n",
       "      <td>193.04</td>\n",
       "      <td>200.0</td>\n",
       "      <td>L</td>\n",
       "    </tr>\n",
       "    <tr>\n",
       "      <th>3923</th>\n",
       "      <td>8477574</td>\n",
       "      <td>Parker</td>\n",
       "      <td>Milner</td>\n",
       "      <td>USA</td>\n",
       "      <td>G</td>\n",
       "      <td>185.42</td>\n",
       "      <td>185.0</td>\n",
       "      <td>L</td>\n",
       "    </tr>\n",
       "    <tr>\n",
       "      <th>3924</th>\n",
       "      <td>8477352</td>\n",
       "      <td>Ryan</td>\n",
       "      <td>Fitzgerald</td>\n",
       "      <td>USA</td>\n",
       "      <td>C</td>\n",
       "      <td>175.26</td>\n",
       "      <td>172.0</td>\n",
       "      <td>R</td>\n",
       "    </tr>\n",
       "  </tbody>\n",
       "</table>\n",
       "<p>3925 rows × 8 columns</p>\n",
       "</div>"
      ],
      "text/plain": [
       "      Player ID firstName      lastName nationality primaryPosition  \\\n",
       "0       8466148    Marian         Hossa         SVK              RW   \n",
       "1       8465058    Michal      Rozsival         CZE               D   \n",
       "2       8476906    Shayne  Gostisbehere         USA               D   \n",
       "3       8466285     Brian      Campbell         CAN               D   \n",
       "4       8470607     Brent      Seabrook         CAN               D   \n",
       "...         ...       ...           ...         ...             ...   \n",
       "3920    8479374      Adam     Mascherin         CAN              LW   \n",
       "3921    8479403     Tyler       Parsons         USA               G   \n",
       "3922    8480970    Marcus      Hogstrom         SWE               D   \n",
       "3923    8477574    Parker        Milner         USA               G   \n",
       "3924    8477352      Ryan    Fitzgerald         USA               C   \n",
       "\n",
       "      height_cm  weight shootsCatches  \n",
       "0        185.42   207.0             L  \n",
       "1        185.42   210.0             R  \n",
       "2        180.34   180.0             L  \n",
       "3        177.80   192.0             L  \n",
       "4        190.50   220.0             R  \n",
       "...         ...     ...           ...  \n",
       "3920     177.80   205.0             L  \n",
       "3921     185.42   185.0             L  \n",
       "3922     193.04   200.0             L  \n",
       "3923     185.42   185.0             L  \n",
       "3924     175.26   172.0             R  \n",
       "\n",
       "[3925 rows x 8 columns]"
      ]
     },
     "execution_count": 5,
     "metadata": {},
     "output_type": "execute_result"
    }
   ],
   "source": [
    "data1"
   ]
  },
  {
   "cell_type": "markdown",
   "id": "120afa3c-5a22-4d7a-a5e3-bc204488da2e",
   "metadata": {},
   "source": [
    "Here I created a function that cleans and wrangles the information that I want all at one time. From the dataset1 the changes i have made include making the players position as the index along with changing the RW, LW, D, C, and G variables to say Right Wing, Left Wing, Defence, Center, and Goalie instead making it easier to read. Futhermore the rows of birthcity, birthdate, and birthStateProvince have all been dropped as I have deemed them not necessary for my analysis. "
   ]
  },
  {
   "cell_type": "markdown",
   "id": "a2ab8694-f169-4ad3-9dd5-29bd8037e762",
   "metadata": {},
   "source": [
    "# Research Question"
   ]
  },
  {
   "cell_type": "markdown",
   "id": "c49e3571-6aa8-4923-8b81-15ca7b064af4",
   "metadata": {},
   "source": [
    "The area I have decided to focus on for this dataset is looking at the position of the players and seeing if there is a more prominant heigth and weight for those certain positions. For example players in defence are generally seen as bigger than some more of the skilled forwards in the league. With this analysis I will see if infact most defence have a higher height and weight compared to the other players. "
   ]
  },
  {
   "cell_type": "markdown",
   "id": "711d6d2a-44e4-490c-83b2-9dc956c2150d",
   "metadata": {},
   "source": [
    "# Analyze Data"
   ]
  },
  {
   "cell_type": "code",
   "execution_count": 6,
   "id": "5cbe0cdb-0ff1-4d84-a337-3ec90b581b5e",
   "metadata": {},
   "outputs": [
    {
     "data": {
      "text/html": [
       "<div>\n",
       "<style scoped>\n",
       "    .dataframe tbody tr th:only-of-type {\n",
       "        vertical-align: middle;\n",
       "    }\n",
       "\n",
       "    .dataframe tbody tr th {\n",
       "        vertical-align: top;\n",
       "    }\n",
       "\n",
       "    .dataframe thead th {\n",
       "        text-align: right;\n",
       "    }\n",
       "</style>\n",
       "<table border=\"1\" class=\"dataframe\">\n",
       "  <thead>\n",
       "    <tr style=\"text-align: right;\">\n",
       "      <th></th>\n",
       "      <th>Player ID</th>\n",
       "      <th>height_cm</th>\n",
       "      <th>weight</th>\n",
       "    </tr>\n",
       "  </thead>\n",
       "  <tbody>\n",
       "    <tr>\n",
       "      <th>count</th>\n",
       "      <td>3925.00000</td>\n",
       "      <td>3922.00000</td>\n",
       "      <td>3922.00000</td>\n",
       "    </tr>\n",
       "    <tr>\n",
       "      <th>mean</th>\n",
       "      <td>8470209.48025</td>\n",
       "      <td>185.72439</td>\n",
       "      <td>200.58669</td>\n",
       "    </tr>\n",
       "    <tr>\n",
       "      <th>std</th>\n",
       "      <td>8016.82182</td>\n",
       "      <td>5.36722</td>\n",
       "      <td>15.88916</td>\n",
       "    </tr>\n",
       "    <tr>\n",
       "      <th>min</th>\n",
       "      <td>8444894.00000</td>\n",
       "      <td>162.56000</td>\n",
       "      <td>140.00000</td>\n",
       "    </tr>\n",
       "    <tr>\n",
       "      <th>25%</th>\n",
       "      <td>8466403.00000</td>\n",
       "      <td>182.88000</td>\n",
       "      <td>190.00000</td>\n",
       "    </tr>\n",
       "    <tr>\n",
       "      <th>50%</th>\n",
       "      <td>8471490.00000</td>\n",
       "      <td>185.42000</td>\n",
       "      <td>200.00000</td>\n",
       "    </tr>\n",
       "    <tr>\n",
       "      <th>75%</th>\n",
       "      <td>8476419.00000</td>\n",
       "      <td>187.96000</td>\n",
       "      <td>210.00000</td>\n",
       "    </tr>\n",
       "    <tr>\n",
       "      <th>max</th>\n",
       "      <td>8481813.00000</td>\n",
       "      <td>205.74000</td>\n",
       "      <td>265.00000</td>\n",
       "    </tr>\n",
       "  </tbody>\n",
       "</table>\n",
       "</div>"
      ],
      "text/plain": [
       "           Player ID   height_cm      weight\n",
       "count     3925.00000  3922.00000  3922.00000\n",
       "mean   8470209.48025   185.72439   200.58669\n",
       "std       8016.82182     5.36722    15.88916\n",
       "min    8444894.00000   162.56000   140.00000\n",
       "25%    8466403.00000   182.88000   190.00000\n",
       "50%    8471490.00000   185.42000   200.00000\n",
       "75%    8476419.00000   187.96000   210.00000\n",
       "max    8481813.00000   205.74000   265.00000"
      ]
     },
     "execution_count": 6,
     "metadata": {},
     "output_type": "execute_result"
    }
   ],
   "source": [
    "data1.describe().apply(lambda s: s.apply('{0:.5f}'.format))"
   ]
  },
  {
   "cell_type": "markdown",
   "id": "48f2fdf0-3af1-40c3-ba3a-d56ba1ddbf25",
   "metadata": {},
   "source": [
    "Here I have created a table that displays information regarding the average, maximum and minimum values for the numerical data within the cleaned dataset. They Player ID column isn't important for this particular table as they are just used to tell who the players are in the other datasets. The average, maximum and minumum values of the player weights and heights can be used to answer potential question for the research question."
   ]
  },
  {
   "cell_type": "code",
   "execution_count": 7,
   "id": "c05269da-72fe-43b5-9903-cadaed5b79c7",
   "metadata": {},
   "outputs": [
    {
     "data": {
      "text/plain": [
       "<AxesSubplot:xlabel='height_cm', ylabel='weight'>"
      ]
     },
     "execution_count": 7,
     "metadata": {},
     "output_type": "execute_result"
    },
    {
     "data": {
      "image/png": "[encoded data removed]",
      "text/plain": [
       "<Figure size 432x288 with 1 Axes>"
      ]
     },
     "metadata": {
      "needs_background": "light"
     },
     "output_type": "display_data"
    }
   ],
   "source": [
    "data1.plot(kind='scatter', x='height_cm', y='weight')"
   ]
  },
  {
   "cell_type": "markdown",
   "id": "63b4c225-74f1-4381-a1ab-5b43afb83d5c",
   "metadata": {},
   "source": [
    "This scatter plot graph is able to show the distribution of weights at different heights. Overall this graph esentailly shows us that for almost all the weights there are players that vary in weight from 140 pounds up to roughly 250 pounds. "
   ]
  },
  {
   "cell_type": "code",
   "execution_count": 8,
   "id": "0be91c61-771e-4e47-bf65-7eca37241d5a",
   "metadata": {},
   "outputs": [
    {
     "data": {
      "image/png": "[encoded data removed]",
      "text/plain": [
       "<Figure size 720x720 with 4 Axes>"
      ]
     },
     "metadata": {
      "needs_background": "light"
     },
     "output_type": "display_data"
    }
   ],
   "source": [
    "hist = data1.hist(bins=10,figsize =(10,10))"
   ]
  },
  {
   "cell_type": "code",
   "execution_count": 9,
   "id": "efd95552-3c90-4463-9ba5-57c52a0a1cad",
   "metadata": {},
   "outputs": [
    {
     "data": {
      "image/png": "[encoded data removed]",
      "text/plain": [
       "<Figure size 576x864 with 5 Axes>"
      ]
     },
     "metadata": {
      "needs_background": "light"
     },
     "output_type": "display_data"
    }
   ],
   "source": [
    "imp = sns.lmplot(x=\"height_cm\", y=\"weight\", col=\"primaryPosition\", hue=\"primaryPosition\", data=data1,\n",
    "           col_wrap=2, ci=None, palette=\"muted\", height=4,\n",
    "           scatter_kws={\"s\": 50, \"alpha\": 1})"
   ]
  },
  {
   "cell_type": "markdown",
   "id": "7ff9de57-3b7d-4f83-8ea5-141f4305b4d8",
   "metadata": {},
   "source": [
    "This implot graph shows very similar results to the scatter plot used earlier except it breaks it down into position and would be usefull more than just the scatter plot since the reasearch question is looking at each individual position."
   ]
  },
  {
   "cell_type": "code",
   "execution_count": 14,
   "id": "42fe70d1-e542-4fd0-97dd-1a55f4610e57",
   "metadata": {},
   "outputs": [
    {
     "data": {
      "image/png": "[encoded data removed]",
      "text/plain": [
       "<Figure size 1165.88x1080 with 1 Axes>"
      ]
     },
     "metadata": {
      "needs_background": "light"
     },
     "output_type": "display_data"
    }
   ],
   "source": [
    "\n",
    "g = sns.catplot(\n",
    "    data=data1, kind=\"bar\",\n",
    "    x=\"height_cm\", y=\"weight\", hue=\"primaryPosition\",\n",
    "    ci=\"sd\", palette=\"dark\", alpha=.6, height=15\n",
    ")\n",
    "g.despine(left=True)\n",
    "g.set_axis_labels(\"\", \"Body mass (g)\")\n",
    "g.legend.set_title(\"\")\n"
   ]
  },
  {
   "cell_type": "markdown",
   "id": "8c2250f4-03da-4080-92a3-8bdffda5aecf",
   "metadata": {},
   "source": [
    "This cat plot graph is very useful as it breaksdown the heighs and which player positions are present at each. Then with that information it adds teh weight of the players. As shown the shortest player at 162.56 cm is player at a center postion. The next smallest player is a goalie and weighs less than the center by a signifigant amount. The shortest recorded defenceman is at 172.72 cm which is tallest-shortest player in the league. On the other side of the graph we can see that the tallest player is a defenceman. With this graph you can start to see a pattern that defenceman seem to be taller than all other positions, however the weights still seem to be similar amoung the positions."
   ]
  },
  {
   "cell_type": "code",
   "execution_count": null,
   "id": "efe80dc5-8f4b-4a4f-908c-b6496ab49cb4",
   "metadata": {},
   "outputs": [],
   "source": []
  },
  {
   "cell_type": "markdown",
   "id": "fd9f970b-a239-48a8-b9e5-3479921abd71",
   "metadata": {},
   "source": [
    "## Noah"
   ]
  },
  {
   "cell_type": "code",
   "execution_count": null,
   "id": "f6ef1d1c-01e2-4db8-9469-cc08dc7b1381",
   "metadata": {},
   "outputs": [],
   "source": []
  },
  {
   "cell_type": "code",
   "execution_count": 1,
   "id": "9e661ad7-eb94-4a7b-a140-30526d945997",
   "metadata": {},
   "outputs": [],
   "source": [
    "import numpy as np\n",
    "import pandas as pd\n",
    "import seaborn as sns"
   ]
  },
  {
   "cell_type": "code",
   "execution_count": 2,
   "id": "6932e8cc-080f-4e73-a41b-c8561c02ce1e",
   "metadata": {},
   "outputs": [],
   "source": [
    "df = pd.read_csv('../player_info.csv')"
   ]
  },
  {
   "cell_type": "code",
   "execution_count": 3,
   "id": "2621e4d4-0480-4254-80bc-162a7c58defb",
   "metadata": {},
   "outputs": [
    {
     "data": {
      "text/html": [
       "<div>\n",
       "<style scoped>\n",
       "    .dataframe tbody tr th:only-of-type {\n",
       "        vertical-align: middle;\n",
       "    }\n",
       "\n",
       "    .dataframe tbody tr th {\n",
       "        vertical-align: top;\n",
       "    }\n",
       "\n",
       "    .dataframe thead th {\n",
       "        text-align: right;\n",
       "    }\n",
       "</style>\n",
       "<table border=\"1\" class=\"dataframe\">\n",
       "  <thead>\n",
       "    <tr style=\"text-align: right;\">\n",
       "      <th></th>\n",
       "      <th>player_id</th>\n",
       "      <th>firstName</th>\n",
       "      <th>lastName</th>\n",
       "      <th>nationality</th>\n",
       "      <th>birthCity</th>\n",
       "      <th>primaryPosition</th>\n",
       "      <th>birthDate</th>\n",
       "      <th>birthStateProvince</th>\n",
       "      <th>height</th>\n",
       "      <th>height_cm</th>\n",
       "      <th>weight</th>\n",
       "      <th>shootsCatches</th>\n",
       "    </tr>\n",
       "  </thead>\n",
       "  <tbody>\n",
       "    <tr>\n",
       "      <th>0</th>\n",
       "      <td>8466148</td>\n",
       "      <td>Marian</td>\n",
       "      <td>Hossa</td>\n",
       "      <td>SVK</td>\n",
       "      <td>Stará Lubovna</td>\n",
       "      <td>RW</td>\n",
       "      <td>1979-01-12 00:00:00</td>\n",
       "      <td>NaN</td>\n",
       "      <td>6' 1\"</td>\n",
       "      <td>185.42</td>\n",
       "      <td>207.0</td>\n",
       "      <td>L</td>\n",
       "    </tr>\n",
       "    <tr>\n",
       "      <th>1</th>\n",
       "      <td>8465058</td>\n",
       "      <td>Michal</td>\n",
       "      <td>Rozsival</td>\n",
       "      <td>CZE</td>\n",
       "      <td>Vlasim</td>\n",
       "      <td>D</td>\n",
       "      <td>1978-09-03 01:00:00</td>\n",
       "      <td>NaN</td>\n",
       "      <td>6' 1\"</td>\n",
       "      <td>185.42</td>\n",
       "      <td>210.0</td>\n",
       "      <td>R</td>\n",
       "    </tr>\n",
       "    <tr>\n",
       "      <th>2</th>\n",
       "      <td>8476906</td>\n",
       "      <td>Shayne</td>\n",
       "      <td>Gostisbehere</td>\n",
       "      <td>USA</td>\n",
       "      <td>Pembroke Pines</td>\n",
       "      <td>D</td>\n",
       "      <td>1993-04-20 01:00:00</td>\n",
       "      <td>FL</td>\n",
       "      <td>5' 11\"</td>\n",
       "      <td>180.34</td>\n",
       "      <td>180.0</td>\n",
       "      <td>L</td>\n",
       "    </tr>\n",
       "    <tr>\n",
       "      <th>3</th>\n",
       "      <td>8466285</td>\n",
       "      <td>Brian</td>\n",
       "      <td>Campbell</td>\n",
       "      <td>CAN</td>\n",
       "      <td>Strathroy</td>\n",
       "      <td>D</td>\n",
       "      <td>1979-05-23 01:00:00</td>\n",
       "      <td>ON</td>\n",
       "      <td>5' 10\"</td>\n",
       "      <td>177.80</td>\n",
       "      <td>192.0</td>\n",
       "      <td>L</td>\n",
       "    </tr>\n",
       "    <tr>\n",
       "      <th>4</th>\n",
       "      <td>8470607</td>\n",
       "      <td>Brent</td>\n",
       "      <td>Seabrook</td>\n",
       "      <td>CAN</td>\n",
       "      <td>Richmond</td>\n",
       "      <td>D</td>\n",
       "      <td>1985-04-20 01:00:00</td>\n",
       "      <td>BC</td>\n",
       "      <td>6' 3\"</td>\n",
       "      <td>190.50</td>\n",
       "      <td>220.0</td>\n",
       "      <td>R</td>\n",
       "    </tr>\n",
       "    <tr>\n",
       "      <th>...</th>\n",
       "      <td>...</td>\n",
       "      <td>...</td>\n",
       "      <td>...</td>\n",
       "      <td>...</td>\n",
       "      <td>...</td>\n",
       "      <td>...</td>\n",
       "      <td>...</td>\n",
       "      <td>...</td>\n",
       "      <td>...</td>\n",
       "      <td>...</td>\n",
       "      <td>...</td>\n",
       "      <td>...</td>\n",
       "    </tr>\n",
       "    <tr>\n",
       "      <th>3920</th>\n",
       "      <td>8479374</td>\n",
       "      <td>Adam</td>\n",
       "      <td>Mascherin</td>\n",
       "      <td>CAN</td>\n",
       "      <td>Maple</td>\n",
       "      <td>LW</td>\n",
       "      <td>1998-06-06 01:00:00</td>\n",
       "      <td>ON</td>\n",
       "      <td>5' 10\"</td>\n",
       "      <td>177.80</td>\n",
       "      <td>205.0</td>\n",
       "      <td>L</td>\n",
       "    </tr>\n",
       "    <tr>\n",
       "      <th>3921</th>\n",
       "      <td>8479403</td>\n",
       "      <td>Tyler</td>\n",
       "      <td>Parsons</td>\n",
       "      <td>USA</td>\n",
       "      <td>Mt. Clemas</td>\n",
       "      <td>G</td>\n",
       "      <td>1997-09-18 01:00:00</td>\n",
       "      <td>MI</td>\n",
       "      <td>6' 1\"</td>\n",
       "      <td>185.42</td>\n",
       "      <td>185.0</td>\n",
       "      <td>L</td>\n",
       "    </tr>\n",
       "    <tr>\n",
       "      <th>3922</th>\n",
       "      <td>8480970</td>\n",
       "      <td>Marcus</td>\n",
       "      <td>Hogstrom</td>\n",
       "      <td>SWE</td>\n",
       "      <td>Sveg</td>\n",
       "      <td>D</td>\n",
       "      <td>1989-03-20 00:00:00</td>\n",
       "      <td>NaN</td>\n",
       "      <td>6' 4\"</td>\n",
       "      <td>193.04</td>\n",
       "      <td>200.0</td>\n",
       "      <td>L</td>\n",
       "    </tr>\n",
       "    <tr>\n",
       "      <th>3923</th>\n",
       "      <td>8477574</td>\n",
       "      <td>Parker</td>\n",
       "      <td>Milner</td>\n",
       "      <td>USA</td>\n",
       "      <td>Pittsburgh</td>\n",
       "      <td>G</td>\n",
       "      <td>1990-09-06 01:00:00</td>\n",
       "      <td>PA</td>\n",
       "      <td>6' 1\"</td>\n",
       "      <td>185.42</td>\n",
       "      <td>185.0</td>\n",
       "      <td>L</td>\n",
       "    </tr>\n",
       "    <tr>\n",
       "      <th>3924</th>\n",
       "      <td>8477352</td>\n",
       "      <td>Ryan</td>\n",
       "      <td>Fitzgerald</td>\n",
       "      <td>USA</td>\n",
       "      <td>Boca Raton</td>\n",
       "      <td>C</td>\n",
       "      <td>1994-10-19 01:00:00</td>\n",
       "      <td>FL</td>\n",
       "      <td>5' 9\"</td>\n",
       "      <td>175.26</td>\n",
       "      <td>172.0</td>\n",
       "      <td>R</td>\n",
       "    </tr>\n",
       "  </tbody>\n",
       "</table>\n",
       "<p>3925 rows × 12 columns</p>\n",
       "</div>"
      ],
      "text/plain": [
       "      player_id firstName      lastName nationality       birthCity  \\\n",
       "0       8466148    Marian         Hossa         SVK   Stará Lubovna   \n",
       "1       8465058    Michal      Rozsival         CZE          Vlasim   \n",
       "2       8476906    Shayne  Gostisbehere         USA  Pembroke Pines   \n",
       "3       8466285     Brian      Campbell         CAN       Strathroy   \n",
       "4       8470607     Brent      Seabrook         CAN        Richmond   \n",
       "...         ...       ...           ...         ...             ...   \n",
       "3920    8479374      Adam     Mascherin         CAN           Maple   \n",
       "3921    8479403     Tyler       Parsons         USA      Mt. Clemas   \n",
       "3922    8480970    Marcus      Hogstrom         SWE            Sveg   \n",
       "3923    8477574    Parker        Milner         USA      Pittsburgh   \n",
       "3924    8477352      Ryan    Fitzgerald         USA      Boca Raton   \n",
       "\n",
       "     primaryPosition            birthDate birthStateProvince  height  \\\n",
       "0                 RW  1979-01-12 00:00:00                NaN   6' 1\"   \n",
       "1                  D  1978-09-03 01:00:00                NaN   6' 1\"   \n",
       "2                  D  1993-04-20 01:00:00                 FL  5' 11\"   \n",
       "3                  D  1979-05-23 01:00:00                 ON  5' 10\"   \n",
       "4                  D  1985-04-20 01:00:00                 BC   6' 3\"   \n",
       "...              ...                  ...                ...     ...   \n",
       "3920              LW  1998-06-06 01:00:00                 ON  5' 10\"   \n",
       "3921               G  1997-09-18 01:00:00                 MI   6' 1\"   \n",
       "3922               D  1989-03-20 00:00:00                NaN   6' 4\"   \n",
       "3923               G  1990-09-06 01:00:00                 PA   6' 1\"   \n",
       "3924               C  1994-10-19 01:00:00                 FL   5' 9\"   \n",
       "\n",
       "      height_cm  weight shootsCatches  \n",
       "0        185.42   207.0             L  \n",
       "1        185.42   210.0             R  \n",
       "2        180.34   180.0             L  \n",
       "3        177.80   192.0             L  \n",
       "4        190.50   220.0             R  \n",
       "...         ...     ...           ...  \n",
       "3920     177.80   205.0             L  \n",
       "3921     185.42   185.0             L  \n",
       "3922     193.04   200.0             L  \n",
       "3923     185.42   185.0             L  \n",
       "3924     175.26   172.0             R  \n",
       "\n",
       "[3925 rows x 12 columns]"
      ]
     },
     "execution_count": 3,
     "metadata": {},
     "output_type": "execute_result"
    }
   ],
   "source": [
    "df"
   ]
  },
  {
   "cell_type": "markdown",
   "id": "100f9a69-68ad-400e-aa38-83dbfa182940",
   "metadata": {},
   "source": [
    " This is the data that I will be working with to examine player demographics. It is a list of both active and retired NHL players and consists of many character profile stats such as: Player ID, Name, Weight, and Height. For my analysis I will be be focusing on Nationality and shooting / catching hand to investigate a demographic breakdown of any correlation between country of origin and handedness."
   ]
  },
  {
   "cell_type": "code",
   "execution_count": 4,
   "id": "411fa017-8937-44ba-ae33-d016c2be40ee",
   "metadata": {
    "tags": []
   },
   "outputs": [
    {
     "data": {
      "text/html": [
       "<div>\n",
       "<style scoped>\n",
       "    .dataframe tbody tr th:only-of-type {\n",
       "        vertical-align: middle;\n",
       "    }\n",
       "\n",
       "    .dataframe tbody tr th {\n",
       "        vertical-align: top;\n",
       "    }\n",
       "\n",
       "    .dataframe thead th {\n",
       "        text-align: right;\n",
       "    }\n",
       "</style>\n",
       "<table border=\"1\" class=\"dataframe\">\n",
       "  <thead>\n",
       "    <tr style=\"text-align: right;\">\n",
       "      <th></th>\n",
       "      <th>count</th>\n",
       "      <th>unique</th>\n",
       "      <th>top</th>\n",
       "      <th>freq</th>\n",
       "    </tr>\n",
       "  </thead>\n",
       "  <tbody>\n",
       "    <tr>\n",
       "      <th>firstName</th>\n",
       "      <td>3925</td>\n",
       "      <td>928</td>\n",
       "      <td>Mike</td>\n",
       "      <td>70</td>\n",
       "    </tr>\n",
       "    <tr>\n",
       "      <th>lastName</th>\n",
       "      <td>3925</td>\n",
       "      <td>3153</td>\n",
       "      <td>Smith</td>\n",
       "      <td>23</td>\n",
       "    </tr>\n",
       "    <tr>\n",
       "      <th>nationality</th>\n",
       "      <td>3917</td>\n",
       "      <td>28</td>\n",
       "      <td>CAN</td>\n",
       "      <td>1896</td>\n",
       "    </tr>\n",
       "    <tr>\n",
       "      <th>birthCity</th>\n",
       "      <td>3920</td>\n",
       "      <td>1436</td>\n",
       "      <td>Toronto</td>\n",
       "      <td>107</td>\n",
       "    </tr>\n",
       "    <tr>\n",
       "      <th>primaryPosition</th>\n",
       "      <td>3925</td>\n",
       "      <td>5</td>\n",
       "      <td>D</td>\n",
       "      <td>1208</td>\n",
       "    </tr>\n",
       "    <tr>\n",
       "      <th>birthDate</th>\n",
       "      <td>3925</td>\n",
       "      <td>3291</td>\n",
       "      <td>1991-01-03 00:00:00</td>\n",
       "      <td>5</td>\n",
       "    </tr>\n",
       "    <tr>\n",
       "      <th>birthStateProvince</th>\n",
       "      <td>2802</td>\n",
       "      <td>50</td>\n",
       "      <td>ON</td>\n",
       "      <td>746</td>\n",
       "    </tr>\n",
       "    <tr>\n",
       "      <th>height</th>\n",
       "      <td>3922</td>\n",
       "      <td>18</td>\n",
       "      <td>6' 1\"</td>\n",
       "      <td>760</td>\n",
       "    </tr>\n",
       "    <tr>\n",
       "      <th>shootsCatches</th>\n",
       "      <td>3908</td>\n",
       "      <td>2</td>\n",
       "      <td>L</td>\n",
       "      <td>2594</td>\n",
       "    </tr>\n",
       "  </tbody>\n",
       "</table>\n",
       "</div>"
      ],
      "text/plain": [
       "                   count unique                  top  freq\n",
       "firstName           3925    928                 Mike    70\n",
       "lastName            3925   3153                Smith    23\n",
       "nationality         3917     28                  CAN  1896\n",
       "birthCity           3920   1436              Toronto   107\n",
       "primaryPosition     3925      5                    D  1208\n",
       "birthDate           3925   3291  1991-01-03 00:00:00     5\n",
       "birthStateProvince  2802     50                   ON   746\n",
       "height              3922     18                6' 1\"   760\n",
       "shootsCatches       3908      2                    L  2594"
      ]
     },
     "execution_count": 4,
     "metadata": {},
     "output_type": "execute_result"
    }
   ],
   "source": [
    "df.describe(include='object').T"
   ]
  },
  {
   "cell_type": "markdown",
   "id": "a21bfc18-3fc7-45b1-af78-a516d6869738",
   "metadata": {},
   "source": [
    "After sorting the unique values and the most common response it apears that the most repressented country in the NHL is expectedly Canada. This should come as no suprise to anyone who follows hockey as many of the American teams have Canadians on their roster. The other important statistic to come from this table is that left handedness is the most common shooting or catching hand. Of the 3908 player profiles that have handedness listed, shooting or catching from the left counts for 2594 of the entries."
   ]
  },
  {
   "cell_type": "code",
   "execution_count": 5,
   "id": "6b02786c-3e63-444b-891f-e720177b6a17",
   "metadata": {},
   "outputs": [],
   "source": [
    "def load_and_process():\n",
    "\n",
    "    df1 = (\n",
    "        pd.read_csv(\"../player_info.csv\")\n",
    "        .drop('birthCity', axis=1)\n",
    "        .drop('birthDate', axis=1)\n",
    "        .drop('birthStateProvince', axis=1)\n",
    "        .drop('primaryPosition', axis=1)\n",
    "        .drop('weight', axis=1)\n",
    "        .drop('height_cm', axis=1)\n",
    "        .drop('height', axis=1)\n",
    "    )\n",
    "    \n",
    "    df2 = (\n",
    "            df1\n",
    "            .rename(columns={'shootsCatches': 'Shooting / Catching Hand'})\n",
    "            .rename(columns={'player_id': 'Player ID'})\n",
    "            .set_index('Shooting / Catching Hand')                                       \n",
    "            .rename(index={'L': 'Left'})\n",
    "            .rename(index={'R': 'Right'})\n",
    "       \n",
    "    )\n",
    "    \n",
    "    return df2\n",
    "                \n",
    "        "
   ]
  },
  {
   "cell_type": "code",
   "execution_count": 6,
   "id": "2ad9231f-74fe-42db-b0c0-73dea4f658d2",
   "metadata": {},
   "outputs": [
    {
     "data": {
      "text/html": [
       "<div>\n",
       "<style scoped>\n",
       "    .dataframe tbody tr th:only-of-type {\n",
       "        vertical-align: middle;\n",
       "    }\n",
       "\n",
       "    .dataframe tbody tr th {\n",
       "        vertical-align: top;\n",
       "    }\n",
       "\n",
       "    .dataframe thead th {\n",
       "        text-align: right;\n",
       "    }\n",
       "</style>\n",
       "<table border=\"1\" class=\"dataframe\">\n",
       "  <thead>\n",
       "    <tr style=\"text-align: right;\">\n",
       "      <th></th>\n",
       "      <th>Player ID</th>\n",
       "      <th>firstName</th>\n",
       "      <th>lastName</th>\n",
       "      <th>nationality</th>\n",
       "    </tr>\n",
       "    <tr>\n",
       "      <th>Shooting / Catching Hand</th>\n",
       "      <th></th>\n",
       "      <th></th>\n",
       "      <th></th>\n",
       "      <th></th>\n",
       "    </tr>\n",
       "  </thead>\n",
       "  <tbody>\n",
       "    <tr>\n",
       "      <th>Left</th>\n",
       "      <td>8466148</td>\n",
       "      <td>Marian</td>\n",
       "      <td>Hossa</td>\n",
       "      <td>SVK</td>\n",
       "    </tr>\n",
       "    <tr>\n",
       "      <th>Right</th>\n",
       "      <td>8465058</td>\n",
       "      <td>Michal</td>\n",
       "      <td>Rozsival</td>\n",
       "      <td>CZE</td>\n",
       "    </tr>\n",
       "    <tr>\n",
       "      <th>Left</th>\n",
       "      <td>8476906</td>\n",
       "      <td>Shayne</td>\n",
       "      <td>Gostisbehere</td>\n",
       "      <td>USA</td>\n",
       "    </tr>\n",
       "    <tr>\n",
       "      <th>Left</th>\n",
       "      <td>8466285</td>\n",
       "      <td>Brian</td>\n",
       "      <td>Campbell</td>\n",
       "      <td>CAN</td>\n",
       "    </tr>\n",
       "    <tr>\n",
       "      <th>Right</th>\n",
       "      <td>8470607</td>\n",
       "      <td>Brent</td>\n",
       "      <td>Seabrook</td>\n",
       "      <td>CAN</td>\n",
       "    </tr>\n",
       "    <tr>\n",
       "      <th>...</th>\n",
       "      <td>...</td>\n",
       "      <td>...</td>\n",
       "      <td>...</td>\n",
       "      <td>...</td>\n",
       "    </tr>\n",
       "    <tr>\n",
       "      <th>Left</th>\n",
       "      <td>8479374</td>\n",
       "      <td>Adam</td>\n",
       "      <td>Mascherin</td>\n",
       "      <td>CAN</td>\n",
       "    </tr>\n",
       "    <tr>\n",
       "      <th>Left</th>\n",
       "      <td>8479403</td>\n",
       "      <td>Tyler</td>\n",
       "      <td>Parsons</td>\n",
       "      <td>USA</td>\n",
       "    </tr>\n",
       "    <tr>\n",
       "      <th>Left</th>\n",
       "      <td>8480970</td>\n",
       "      <td>Marcus</td>\n",
       "      <td>Hogstrom</td>\n",
       "      <td>SWE</td>\n",
       "    </tr>\n",
       "    <tr>\n",
       "      <th>Left</th>\n",
       "      <td>8477574</td>\n",
       "      <td>Parker</td>\n",
       "      <td>Milner</td>\n",
       "      <td>USA</td>\n",
       "    </tr>\n",
       "    <tr>\n",
       "      <th>Right</th>\n",
       "      <td>8477352</td>\n",
       "      <td>Ryan</td>\n",
       "      <td>Fitzgerald</td>\n",
       "      <td>USA</td>\n",
       "    </tr>\n",
       "  </tbody>\n",
       "</table>\n",
       "<p>3925 rows × 4 columns</p>\n",
       "</div>"
      ],
      "text/plain": [
       "                          Player ID firstName      lastName nationality\n",
       "Shooting / Catching Hand                                               \n",
       "Left                        8466148    Marian         Hossa         SVK\n",
       "Right                       8465058    Michal      Rozsival         CZE\n",
       "Left                        8476906    Shayne  Gostisbehere         USA\n",
       "Left                        8466285     Brian      Campbell         CAN\n",
       "Right                       8470607     Brent      Seabrook         CAN\n",
       "...                             ...       ...           ...         ...\n",
       "Left                        8479374      Adam     Mascherin         CAN\n",
       "Left                        8479403     Tyler       Parsons         USA\n",
       "Left                        8480970    Marcus      Hogstrom         SWE\n",
       "Left                        8477574    Parker        Milner         USA\n",
       "Right                       8477352      Ryan    Fitzgerald         USA\n",
       "\n",
       "[3925 rows x 4 columns]"
      ]
     },
     "execution_count": 6,
     "metadata": {},
     "output_type": "execute_result"
    }
   ],
   "source": [
    "load_and_process()"
   ]
  },
  {
   "cell_type": "markdown",
   "id": "c950d0af-50ef-4074-a729-fbc51c496ba9",
   "metadata": {},
   "source": [
    "I wrote a function that would take the raw dataset csv file and clean, wrangle, and process the data I want to look at all in one line of code. The main alterations I made to the dataset was to remove unecessary columns, rename some of the column titles to provide more clarity, and rename the variables in the Shooting / Catching hand to remove the abbreviated L and R values    "
   ]
  },
  {
   "cell_type": "code",
   "execution_count": 7,
   "id": "0cd9d3ea-3144-46a8-87c0-6627d37adc18",
   "metadata": {},
   "outputs": [],
   "source": [
    "df1 = df"
   ]
  },
  {
   "cell_type": "code",
   "execution_count": 8,
   "id": "d39f2f15-15a3-43b4-b3ca-a2e584efa152",
   "metadata": {},
   "outputs": [],
   "source": [
    "df1 = df.drop(['birthCity','birthDate','birthStateProvince','height','primaryPosition','height_cm','weight'], axis='columns')"
   ]
  },
  {
   "cell_type": "code",
   "execution_count": 9,
   "id": "59b27710-19b6-46bc-855b-2dd7365d9d89",
   "metadata": {},
   "outputs": [],
   "source": [
    "df1['shootsCatches'] = df1['shootsCatches'].replace(['L','R'],['1','2'])"
   ]
  },
  {
   "cell_type": "code",
   "execution_count": 10,
   "id": "10b0fcc2-1958-4c40-9548-8cc91853cd71",
   "metadata": {},
   "outputs": [
    {
     "data": {
      "text/plain": [
       "0       1\n",
       "1       2\n",
       "2       1\n",
       "3       1\n",
       "4       2\n",
       "       ..\n",
       "3920    1\n",
       "3921    1\n",
       "3922    1\n",
       "3923    1\n",
       "3924    2\n",
       "Name: shootsCatches, Length: 3925, dtype: object"
      ]
     },
     "execution_count": 10,
     "metadata": {},
     "output_type": "execute_result"
    }
   ],
   "source": [
    "df1['shootsCatches'].astype(str)"
   ]
  },
  {
   "cell_type": "code",
   "execution_count": 11,
   "id": "713e1d1d-e4c0-4560-bd9f-7f3b81908e5f",
   "metadata": {},
   "outputs": [
    {
     "data": {
      "text/plain": [
       "0       1.0\n",
       "1       2.0\n",
       "2       1.0\n",
       "3       1.0\n",
       "4       2.0\n",
       "       ... \n",
       "3920    1.0\n",
       "3921    1.0\n",
       "3922    1.0\n",
       "3923    1.0\n",
       "3924    2.0\n",
       "Name: shootsCatches, Length: 3925, dtype: float64"
      ]
     },
     "execution_count": 11,
     "metadata": {},
     "output_type": "execute_result"
    }
   ],
   "source": [
    "pd.to_numeric(df1['shootsCatches'])"
   ]
  },
  {
   "cell_type": "code",
   "execution_count": 13,
   "id": "d142c25d-796b-4bbd-b108-64f1f0c9bcd3",
   "metadata": {},
   "outputs": [],
   "source": [
    "df1['shootsCatches'] = pd.to_numeric(df1['shootsCatches'])"
   ]
  },
  {
   "cell_type": "code",
   "execution_count": 14,
   "id": "e1d8e4b2-4e8a-4369-80ab-186b4852d228",
   "metadata": {},
   "outputs": [
    {
     "data": {
      "text/plain": [
       "0       1.0\n",
       "1       2.0\n",
       "2       1.0\n",
       "3       1.0\n",
       "4       2.0\n",
       "       ... \n",
       "3920    1.0\n",
       "3921    1.0\n",
       "3922    1.0\n",
       "3923    1.0\n",
       "3924    2.0\n",
       "Name: shootsCatches, Length: 3925, dtype: float64"
      ]
     },
     "execution_count": 14,
     "metadata": {},
     "output_type": "execute_result"
    }
   ],
   "source": [
    "df1['shootsCatches']"
   ]
  },
  {
   "cell_type": "code",
   "execution_count": 15,
   "id": "1733fb6b-fcc6-41f5-9f40-d096c4da88d6",
   "metadata": {},
   "outputs": [
    {
     "data": {
      "text/plain": [
       "0       SVK\n",
       "1       CZE\n",
       "2       USA\n",
       "3       CAN\n",
       "4       CAN\n",
       "       ... \n",
       "3920    CAN\n",
       "3921    USA\n",
       "3922    SWE\n",
       "3923    USA\n",
       "3924    USA\n",
       "Name: nationality, Length: 3925, dtype: object"
      ]
     },
     "execution_count": 15,
     "metadata": {},
     "output_type": "execute_result"
    }
   ],
   "source": [
    "df1['nationality'].astype(str)"
   ]
  },
  {
   "cell_type": "code",
   "execution_count": 17,
   "id": "74134898-0e6a-42fe-8fc7-8b2ccfa5d702",
   "metadata": {},
   "outputs": [
    {
     "name": "stdout",
     "output_type": "stream",
     "text": [
      "['SVK' 'CZE' 'USA' 'CAN' 'SWE' 'RUS' 'FRA' 'CHE' 'AUT' 'DEU' 'LVA' 'FIN'\n",
      " 'DNK' 'NOR' 'SVN' 'NLD' 'GBR' 'LTU' 'HRV' 'AUS' 'BLR' nan 'UKR' 'KAZ'\n",
      " 'NGA' 'BHS' 'JPN' 'POL' 'ITA']\n"
     ]
    }
   ],
   "source": [
    "print(pd.unique(df1['nationality']))"
   ]
  },
  {
   "cell_type": "code",
   "execution_count": 18,
   "id": "ac729b3c-5658-4057-a2b9-1c874da21829",
   "metadata": {},
   "outputs": [],
   "source": [
    "df1['nationality'] = df1['nationality'].replace(['SVK','CZE','USA','CAN','SWE','RUS','FRA','CHE','AUT','DEU','LVA','FIN','DNK','NOR','SVN','NLD','GBR','LTU','HRV','AUS','BLR','nan','UKR','KAZ','NGA','BHS','JPN','POL','ITA'],['1','2','3','4','5','6','7','8','9','10','11','12','13','14','15','16','17','18','19','20','21','22','23','24','25','26','27','28','29'])"
   ]
  },
  {
   "cell_type": "code",
   "execution_count": 19,
   "id": "34f38e74-c0c4-4e36-84b3-b19d27399169",
   "metadata": {},
   "outputs": [
    {
     "name": "stdout",
     "output_type": "stream",
     "text": [
      "['1' '2' '3' '4' '5' '6' '7' '8' '9' '10' '11' '12' '13' '14' '15' '16'\n",
      " '17' '18' '19' '20' '21' nan '23' '24' '25' '26' '27' '28' '29']\n"
     ]
    }
   ],
   "source": [
    "print(pd.unique(df1['nationality']))"
   ]
  },
  {
   "cell_type": "code",
   "execution_count": 20,
   "id": "479ea83e-7ca1-45dc-9e9d-6c42470a939b",
   "metadata": {},
   "outputs": [
    {
     "data": {
      "text/plain": [
       "0       1\n",
       "1       2\n",
       "2       3\n",
       "3       4\n",
       "4       4\n",
       "       ..\n",
       "3920    4\n",
       "3921    3\n",
       "3922    5\n",
       "3923    3\n",
       "3924    3\n",
       "Name: nationality, Length: 3925, dtype: object"
      ]
     },
     "execution_count": 20,
     "metadata": {},
     "output_type": "execute_result"
    }
   ],
   "source": [
    "df1['nationality'].astype(str)"
   ]
  },
  {
   "cell_type": "code",
   "execution_count": 22,
   "id": "c450ed31-687e-4805-9af3-37594dae3130",
   "metadata": {},
   "outputs": [
    {
     "data": {
      "text/plain": [
       "0       1.0\n",
       "1       2.0\n",
       "2       3.0\n",
       "3       4.0\n",
       "4       4.0\n",
       "       ... \n",
       "3920    4.0\n",
       "3921    3.0\n",
       "3922    5.0\n",
       "3923    3.0\n",
       "3924    3.0\n",
       "Name: nationality, Length: 3925, dtype: float64"
      ]
     },
     "execution_count": 22,
     "metadata": {},
     "output_type": "execute_result"
    }
   ],
   "source": [
    "pd.to_numeric(df1['nationality'])"
   ]
  },
  {
   "cell_type": "code",
   "execution_count": 23,
   "id": "0f1bcbc0-0023-4e46-a1d6-84e3b089de25",
   "metadata": {},
   "outputs": [],
   "source": [
    "df1['nationality'] = pd.to_numeric(df1['nationality'])"
   ]
  },
  {
   "cell_type": "code",
   "execution_count": 24,
   "id": "6db5eb14-fac9-4f5d-9a81-fc1ceeb712c7",
   "metadata": {},
   "outputs": [
    {
     "data": {
      "text/plain": [
       "player_id          int64\n",
       "firstName         object\n",
       "lastName          object\n",
       "nationality      float64\n",
       "shootsCatches    float64\n",
       "dtype: object"
      ]
     },
     "execution_count": 24,
     "metadata": {},
     "output_type": "execute_result"
    }
   ],
   "source": [
    "df1.dtypes"
   ]
  },
  {
   "cell_type": "markdown",
   "id": "de1cd531-aabb-45a9-96d8-c8014308b3be",
   "metadata": {},
   "source": [
    "The data that I wanted to work with came to be in non-numerical form and as such I was unable to plot the relaionships in the graphs that I was hoping to use. With the code above I converted the non-numerical values of both the shootsCatches and nationality columns into a numerical system. Doing so allowed me to convert the values into float64 values which would allow me to plot the information. Now I am able to use seaborn and pandas graphs to visualize the information."
   ]
  },
  {
   "cell_type": "markdown",
   "id": "50daa254-183a-4756-86ee-a809c2a3a69a",
   "metadata": {},
   "source": [
    "# Distribution of left vs right handedness"
   ]
  },
  {
   "cell_type": "code",
   "execution_count": 25,
   "id": "6e356400-8d65-434b-9f07-f3557cea42f9",
   "metadata": {},
   "outputs": [
    {
     "data": {
      "image/png": "[encoded data removed]",
      "text/plain": [
       "<Figure size 432x288 with 1 Axes>"
      ]
     },
     "metadata": {
      "needs_background": "light"
     },
     "output_type": "display_data"
    }
   ],
   "source": [
    "hist = df1['shootsCatches'].hist(bins=100)"
   ]
  },
  {
   "cell_type": "markdown",
   "id": "990864b8-54f4-43b5-b63e-35dd79250803",
   "metadata": {},
   "source": [
    "This plot shows the distribution between left and right handed players in terms of chooting and catching. In the NHL left handed shooters account for roughly 2/3 of the total player base."
   ]
  },
  {
   "cell_type": "code",
   "execution_count": 26,
   "id": "d8e07b66-f4d8-48ca-9420-6268d65d0224",
   "metadata": {},
   "outputs": [
    {
     "data": {
      "image/png": "[encoded data removed]",
      "text/plain": [
       "<Figure size 432x288 with 1 Axes>"
      ]
     },
     "metadata": {
      "needs_background": "light"
     },
     "output_type": "display_data"
    }
   ],
   "source": [
    "sns.countplot(y='shootsCatches',data=df1)\n",
    "sns.despine()"
   ]
  },
  {
   "cell_type": "markdown",
   "id": "92d308d4-162f-4a52-b5d3-e651dbcd95c8",
   "metadata": {},
   "source": [
    "This is another plot of the same information regarding player handedness. This is a colour-coded plot to better visualize the difference in scale between left and right handed shooters and catchers"
   ]
  },
  {
   "cell_type": "markdown",
   "id": "ce816586-ce51-463c-80aa-24dbafd30e4a",
   "metadata": {},
   "source": [
    "# Player count in respect to Nationality"
   ]
  },
  {
   "cell_type": "code",
   "execution_count": 27,
   "id": "f197130a-b153-4d3f-bea0-5dc8e33f4d2b",
   "metadata": {},
   "outputs": [
    {
     "data": {
      "image/png": "[encoded data removed]",
      "text/plain": [
       "<Figure size 1440x720 with 1 Axes>"
      ]
     },
     "metadata": {},
     "output_type": "display_data"
    }
   ],
   "source": [
    "sns.set(rc = {'figure.figsize':(20,10)})\n",
    "sns.countplot(x='nationality',data=df1,)\n",
    "sns.despine()"
   ]
  },
  {
   "cell_type": "markdown",
   "id": "bd481e72-7c40-4f2d-bcfb-e166117a009a",
   "metadata": {},
   "source": [
    "This countplot visualizes player nationality and the total number of players from each country that is represented in the NHL. For the sake of this analysis I will focus on the top 5 countries as they have the most amount of players to analyze. The top 5 countries in terms of players are Canada, USA, Sweeden, Russia, Finlad\n",
    "Canada, USA, Sweeden, Russia, Finland"
   ]
  },
  {
   "cell_type": "markdown",
   "id": "c5b0508c-313f-4640-8fda-33f3f559e7fb",
   "metadata": {},
   "source": [
    "# Countplot of nationality,  player count,  and shooting hand"
   ]
  },
  {
   "cell_type": "code",
   "execution_count": 28,
   "id": "e96a33c0-2060-4dd8-a21e-215f26de8b99",
   "metadata": {},
   "outputs": [
    {
     "data": {
      "image/png": "[encoded data removed]",
      "text/plain": [
       "<Figure size 1440x720 with 1 Axes>"
      ]
     },
     "metadata": {},
     "output_type": "display_data"
    }
   ],
   "source": [
    "sns.set(rc = {'figure.figsize':(20,10)})\n",
    "sns.countplot(x='nationality',hue='shootsCatches',data=df1,)\n",
    "sns.despine()"
   ]
  },
  {
   "cell_type": "markdown",
   "id": "ce1e7eae-85e1-4940-8bbc-695e7d72f748",
   "metadata": {},
   "source": [
    "This final countplot analyzes three variables: shooting / catching hand, nationality, and total player count. After plotting this information it is clear that in the top 6 countries, in terms of player count, left handedness is the most popular style of play. There is no country within the NHL that has produced more right handed players than left. This may be because on average, right handed people shoot left handed on hockey. This information paired with the fact that on average the global population is right handed it can be used to explain a possible correlation between a right handed majority and a left handed shooting style."
   ]
  }
 ],
 "metadata": {
  "kernelspec": {
   "display_name": "Python 3",
   "language": "python",
   "name": "python3"
  },
  "language_info": {
   "codemirror_mode": {
    "name": "ipython",
    "version": 3
   },
   "file_extension": ".py",
   "mimetype": "text/x-python",
   "name": "python",
   "nbconvert_exporter": "python",
   "pygments_lexer": "ipython3",
   "version": "3.9.5"
  }
 },
 "nbformat": 4,
 "nbformat_minor": 5
}
