{
 "cells": [
  {
   "cell_type": "code",
   "execution_count": 1,
   "id": "bc6d5758-8c5c-4434-9c99-a085d2c5c862",
   "metadata": {},
   "outputs": [],
   "source": [
    "import numpy as np\n",
    "import pandas as pd\n",
    "import seaborn as sns"
   ]
  },
  {
   "cell_type": "code",
   "execution_count": 2,
   "id": "dd7c639c-949c-480c-b422-5f22b19fd2ca",
   "metadata": {},
   "outputs": [],
   "source": [
    "df = pd.read_csv('../player_info.csv')"
   ]
  },
  {
   "cell_type": "code",
   "execution_count": 3,
   "id": "aa241fea-3e3f-4db3-bf16-3a387dab9950",
   "metadata": {},
   "outputs": [
    {
     "data": {
      "text/html": [
       "<div>\n",
       "<style scoped>\n",
       "    .dataframe tbody tr th:only-of-type {\n",
       "        vertical-align: middle;\n",
       "    }\n",
       "\n",
       "    .dataframe tbody tr th {\n",
       "        vertical-align: top;\n",
       "    }\n",
       "\n",
       "    .dataframe thead th {\n",
       "        text-align: right;\n",
       "    }\n",
       "</style>\n",
       "<table border=\"1\" class=\"dataframe\">\n",
       "  <thead>\n",
       "    <tr style=\"text-align: right;\">\n",
       "      <th></th>\n",
       "      <th>player_id</th>\n",
       "      <th>firstName</th>\n",
       "      <th>lastName</th>\n",
       "      <th>nationality</th>\n",
       "      <th>birthCity</th>\n",
       "      <th>primaryPosition</th>\n",
       "      <th>birthDate</th>\n",
       "      <th>birthStateProvince</th>\n",
       "      <th>height</th>\n",
       "      <th>height_cm</th>\n",
       "      <th>weight</th>\n",
       "      <th>shootsCatches</th>\n",
       "    </tr>\n",
       "  </thead>\n",
       "  <tbody>\n",
       "    <tr>\n",
       "      <th>0</th>\n",
       "      <td>8466148</td>\n",
       "      <td>Marian</td>\n",
       "      <td>Hossa</td>\n",
       "      <td>SVK</td>\n",
       "      <td>Stará Lubovna</td>\n",
       "      <td>RW</td>\n",
       "      <td>1979-01-12 00:00:00</td>\n",
       "      <td>NaN</td>\n",
       "      <td>6' 1\"</td>\n",
       "      <td>185.42</td>\n",
       "      <td>207.0</td>\n",
       "      <td>L</td>\n",
       "    </tr>\n",
       "    <tr>\n",
       "      <th>1</th>\n",
       "      <td>8465058</td>\n",
       "      <td>Michal</td>\n",
       "      <td>Rozsival</td>\n",
       "      <td>CZE</td>\n",
       "      <td>Vlasim</td>\n",
       "      <td>D</td>\n",
       "      <td>1978-09-03 01:00:00</td>\n",
       "      <td>NaN</td>\n",
       "      <td>6' 1\"</td>\n",
       "      <td>185.42</td>\n",
       "      <td>210.0</td>\n",
       "      <td>R</td>\n",
       "    </tr>\n",
       "    <tr>\n",
       "      <th>2</th>\n",
       "      <td>8476906</td>\n",
       "      <td>Shayne</td>\n",
       "      <td>Gostisbehere</td>\n",
       "      <td>USA</td>\n",
       "      <td>Pembroke Pines</td>\n",
       "      <td>D</td>\n",
       "      <td>1993-04-20 01:00:00</td>\n",
       "      <td>FL</td>\n",
       "      <td>5' 11\"</td>\n",
       "      <td>180.34</td>\n",
       "      <td>180.0</td>\n",
       "      <td>L</td>\n",
       "    </tr>\n",
       "    <tr>\n",
       "      <th>3</th>\n",
       "      <td>8466285</td>\n",
       "      <td>Brian</td>\n",
       "      <td>Campbell</td>\n",
       "      <td>CAN</td>\n",
       "      <td>Strathroy</td>\n",
       "      <td>D</td>\n",
       "      <td>1979-05-23 01:00:00</td>\n",
       "      <td>ON</td>\n",
       "      <td>5' 10\"</td>\n",
       "      <td>177.80</td>\n",
       "      <td>192.0</td>\n",
       "      <td>L</td>\n",
       "    </tr>\n",
       "    <tr>\n",
       "      <th>4</th>\n",
       "      <td>8470607</td>\n",
       "      <td>Brent</td>\n",
       "      <td>Seabrook</td>\n",
       "      <td>CAN</td>\n",
       "      <td>Richmond</td>\n",
       "      <td>D</td>\n",
       "      <td>1985-04-20 01:00:00</td>\n",
       "      <td>BC</td>\n",
       "      <td>6' 3\"</td>\n",
       "      <td>190.50</td>\n",
       "      <td>220.0</td>\n",
       "      <td>R</td>\n",
       "    </tr>\n",
       "    <tr>\n",
       "      <th>...</th>\n",
       "      <td>...</td>\n",
       "      <td>...</td>\n",
       "      <td>...</td>\n",
       "      <td>...</td>\n",
       "      <td>...</td>\n",
       "      <td>...</td>\n",
       "      <td>...</td>\n",
       "      <td>...</td>\n",
       "      <td>...</td>\n",
       "      <td>...</td>\n",
       "      <td>...</td>\n",
       "      <td>...</td>\n",
       "    </tr>\n",
       "    <tr>\n",
       "      <th>3920</th>\n",
       "      <td>8479374</td>\n",
       "      <td>Adam</td>\n",
       "      <td>Mascherin</td>\n",
       "      <td>CAN</td>\n",
       "      <td>Maple</td>\n",
       "      <td>LW</td>\n",
       "      <td>1998-06-06 01:00:00</td>\n",
       "      <td>ON</td>\n",
       "      <td>5' 10\"</td>\n",
       "      <td>177.80</td>\n",
       "      <td>205.0</td>\n",
       "      <td>L</td>\n",
       "    </tr>\n",
       "    <tr>\n",
       "      <th>3921</th>\n",
       "      <td>8479403</td>\n",
       "      <td>Tyler</td>\n",
       "      <td>Parsons</td>\n",
       "      <td>USA</td>\n",
       "      <td>Mt. Clemas</td>\n",
       "      <td>G</td>\n",
       "      <td>1997-09-18 01:00:00</td>\n",
       "      <td>MI</td>\n",
       "      <td>6' 1\"</td>\n",
       "      <td>185.42</td>\n",
       "      <td>185.0</td>\n",
       "      <td>L</td>\n",
       "    </tr>\n",
       "    <tr>\n",
       "      <th>3922</th>\n",
       "      <td>8480970</td>\n",
       "      <td>Marcus</td>\n",
       "      <td>Hogstrom</td>\n",
       "      <td>SWE</td>\n",
       "      <td>Sveg</td>\n",
       "      <td>D</td>\n",
       "      <td>1989-03-20 00:00:00</td>\n",
       "      <td>NaN</td>\n",
       "      <td>6' 4\"</td>\n",
       "      <td>193.04</td>\n",
       "      <td>200.0</td>\n",
       "      <td>L</td>\n",
       "    </tr>\n",
       "    <tr>\n",
       "      <th>3923</th>\n",
       "      <td>8477574</td>\n",
       "      <td>Parker</td>\n",
       "      <td>Milner</td>\n",
       "      <td>USA</td>\n",
       "      <td>Pittsburgh</td>\n",
       "      <td>G</td>\n",
       "      <td>1990-09-06 01:00:00</td>\n",
       "      <td>PA</td>\n",
       "      <td>6' 1\"</td>\n",
       "      <td>185.42</td>\n",
       "      <td>185.0</td>\n",
       "      <td>L</td>\n",
       "    </tr>\n",
       "    <tr>\n",
       "      <th>3924</th>\n",
       "      <td>8477352</td>\n",
       "      <td>Ryan</td>\n",
       "      <td>Fitzgerald</td>\n",
       "      <td>USA</td>\n",
       "      <td>Boca Raton</td>\n",
       "      <td>C</td>\n",
       "      <td>1994-10-19 01:00:00</td>\n",
       "      <td>FL</td>\n",
       "      <td>5' 9\"</td>\n",
       "      <td>175.26</td>\n",
       "      <td>172.0</td>\n",
       "      <td>R</td>\n",
       "    </tr>\n",
       "  </tbody>\n",
       "</table>\n",
       "<p>3925 rows × 12 columns</p>\n",
       "</div>"
      ],
      "text/plain": [
       "      player_id firstName      lastName nationality       birthCity  \\\n",
       "0       8466148    Marian         Hossa         SVK   Stará Lubovna   \n",
       "1       8465058    Michal      Rozsival         CZE          Vlasim   \n",
       "2       8476906    Shayne  Gostisbehere         USA  Pembroke Pines   \n",
       "3       8466285     Brian      Campbell         CAN       Strathroy   \n",
       "4       8470607     Brent      Seabrook         CAN        Richmond   \n",
       "...         ...       ...           ...         ...             ...   \n",
       "3920    8479374      Adam     Mascherin         CAN           Maple   \n",
       "3921    8479403     Tyler       Parsons         USA      Mt. Clemas   \n",
       "3922    8480970    Marcus      Hogstrom         SWE            Sveg   \n",
       "3923    8477574    Parker        Milner         USA      Pittsburgh   \n",
       "3924    8477352      Ryan    Fitzgerald         USA      Boca Raton   \n",
       "\n",
       "     primaryPosition            birthDate birthStateProvince  height  \\\n",
       "0                 RW  1979-01-12 00:00:00                NaN   6' 1\"   \n",
       "1                  D  1978-09-03 01:00:00                NaN   6' 1\"   \n",
       "2                  D  1993-04-20 01:00:00                 FL  5' 11\"   \n",
       "3                  D  1979-05-23 01:00:00                 ON  5' 10\"   \n",
       "4                  D  1985-04-20 01:00:00                 BC   6' 3\"   \n",
       "...              ...                  ...                ...     ...   \n",
       "3920              LW  1998-06-06 01:00:00                 ON  5' 10\"   \n",
       "3921               G  1997-09-18 01:00:00                 MI   6' 1\"   \n",
       "3922               D  1989-03-20 00:00:00                NaN   6' 4\"   \n",
       "3923               G  1990-09-06 01:00:00                 PA   6' 1\"   \n",
       "3924               C  1994-10-19 01:00:00                 FL   5' 9\"   \n",
       "\n",
       "      height_cm  weight shootsCatches  \n",
       "0        185.42   207.0             L  \n",
       "1        185.42   210.0             R  \n",
       "2        180.34   180.0             L  \n",
       "3        177.80   192.0             L  \n",
       "4        190.50   220.0             R  \n",
       "...         ...     ...           ...  \n",
       "3920     177.80   205.0             L  \n",
       "3921     185.42   185.0             L  \n",
       "3922     193.04   200.0             L  \n",
       "3923     185.42   185.0             L  \n",
       "3924     175.26   172.0             R  \n",
       "\n",
       "[3925 rows x 12 columns]"
      ]
     },
     "execution_count": 3,
     "metadata": {},
     "output_type": "execute_result"
    }
   ],
   "source": [
    "df"
   ]
  },
  {
   "cell_type": "markdown",
   "id": "79879deb-625e-4571-845c-338f1b9ffb65",
   "metadata": {},
   "source": [
    " This is the data that I will be working with to examine player demographics. It is a list of both active and retired NHL players and consists of many character profile stats such as: Player ID, Name, Weight, and Height. For my analysis I will be be focusing on Nationality and shooting / catching hand to investigate a demographic breakdown of any correlation between country of origin and handedness."
   ]
  },
  {
   "cell_type": "code",
   "execution_count": 4,
   "id": "a8a56d27-76e8-483c-9079-41aeeb13c487",
   "metadata": {
    "tags": []
   },
   "outputs": [
    {
     "data": {
      "text/html": [
       "<div>\n",
       "<style scoped>\n",
       "    .dataframe tbody tr th:only-of-type {\n",
       "        vertical-align: middle;\n",
       "    }\n",
       "\n",
       "    .dataframe tbody tr th {\n",
       "        vertical-align: top;\n",
       "    }\n",
       "\n",
       "    .dataframe thead th {\n",
       "        text-align: right;\n",
       "    }\n",
       "</style>\n",
       "<table border=\"1\" class=\"dataframe\">\n",
       "  <thead>\n",
       "    <tr style=\"text-align: right;\">\n",
       "      <th></th>\n",
       "      <th>count</th>\n",
       "      <th>unique</th>\n",
       "      <th>top</th>\n",
       "      <th>freq</th>\n",
       "    </tr>\n",
       "  </thead>\n",
       "  <tbody>\n",
       "    <tr>\n",
       "      <th>firstName</th>\n",
       "      <td>3925</td>\n",
       "      <td>928</td>\n",
       "      <td>Mike</td>\n",
       "      <td>70</td>\n",
       "    </tr>\n",
       "    <tr>\n",
       "      <th>lastName</th>\n",
       "      <td>3925</td>\n",
       "      <td>3153</td>\n",
       "      <td>Smith</td>\n",
       "      <td>23</td>\n",
       "    </tr>\n",
       "    <tr>\n",
       "      <th>nationality</th>\n",
       "      <td>3917</td>\n",
       "      <td>28</td>\n",
       "      <td>CAN</td>\n",
       "      <td>1896</td>\n",
       "    </tr>\n",
       "    <tr>\n",
       "      <th>birthCity</th>\n",
       "      <td>3920</td>\n",
       "      <td>1436</td>\n",
       "      <td>Toronto</td>\n",
       "      <td>107</td>\n",
       "    </tr>\n",
       "    <tr>\n",
       "      <th>primaryPosition</th>\n",
       "      <td>3925</td>\n",
       "      <td>5</td>\n",
       "      <td>D</td>\n",
       "      <td>1208</td>\n",
       "    </tr>\n",
       "    <tr>\n",
       "      <th>birthDate</th>\n",
       "      <td>3925</td>\n",
       "      <td>3291</td>\n",
       "      <td>1991-01-03 00:00:00</td>\n",
       "      <td>5</td>\n",
       "    </tr>\n",
       "    <tr>\n",
       "      <th>birthStateProvince</th>\n",
       "      <td>2802</td>\n",
       "      <td>50</td>\n",
       "      <td>ON</td>\n",
       "      <td>746</td>\n",
       "    </tr>\n",
       "    <tr>\n",
       "      <th>height</th>\n",
       "      <td>3922</td>\n",
       "      <td>18</td>\n",
       "      <td>6' 1\"</td>\n",
       "      <td>760</td>\n",
       "    </tr>\n",
       "    <tr>\n",
       "      <th>shootsCatches</th>\n",
       "      <td>3908</td>\n",
       "      <td>2</td>\n",
       "      <td>L</td>\n",
       "      <td>2594</td>\n",
       "    </tr>\n",
       "  </tbody>\n",
       "</table>\n",
       "</div>"
      ],
      "text/plain": [
       "                   count unique                  top  freq\n",
       "firstName           3925    928                 Mike    70\n",
       "lastName            3925   3153                Smith    23\n",
       "nationality         3917     28                  CAN  1896\n",
       "birthCity           3920   1436              Toronto   107\n",
       "primaryPosition     3925      5                    D  1208\n",
       "birthDate           3925   3291  1991-01-03 00:00:00     5\n",
       "birthStateProvince  2802     50                   ON   746\n",
       "height              3922     18                6' 1\"   760\n",
       "shootsCatches       3908      2                    L  2594"
      ]
     },
     "execution_count": 4,
     "metadata": {},
     "output_type": "execute_result"
    }
   ],
   "source": [
    "df.describe(include='object').T"
   ]
  },
  {
   "cell_type": "markdown",
   "id": "61da447b-5e68-47c2-8493-02df90ae4211",
   "metadata": {},
   "source": [
    "After sorting the unique values and the most common response it apears that the most repressented country in the NHL is expectedly Canada. This should come as no suprise to anyone who follows hockey as many of the American teams have Canadians on their roster. The other important statistic to come from this table is that left handedness is the most common shooting or catching hand. Of the 3908 player profiles that have handedness listed, shooting or catching from the left counts for 2594 of the entries."
   ]
  },
  {
   "cell_type": "code",
   "execution_count": 5,
   "id": "ad239178-8df4-427d-a101-ed0b2a519b00",
   "metadata": {},
   "outputs": [],
   "source": [
    "def load_and_process():\n",
    "\n",
    "    df1 = (\n",
    "        pd.read_csv(\"../player_info.csv\")\n",
    "        .drop('birthCity', axis=1)\n",
    "        .drop('birthDate', axis=1)\n",
    "        .drop('birthStateProvince', axis=1)\n",
    "        .drop('primaryPosition', axis=1)\n",
    "        .drop('weight', axis=1)\n",
    "        .drop('height_cm', axis=1)\n",
    "        .drop('height', axis=1)\n",
    "    )\n",
    "    \n",
    "    df2 = (\n",
    "            df1\n",
    "            .rename(columns={'shootsCatches': 'Shooting / Catching Hand'})\n",
    "            .rename(columns={'player_id': 'Player ID'})\n",
    "            .set_index('Shooting / Catching Hand')                                       \n",
    "            .rename(index={'L': 'Left'})\n",
    "            .rename(index={'R': 'Right'})\n",
    "       \n",
    "    )\n",
    "    \n",
    "    return df2\n",
    "                \n",
    "        "
   ]
  },
  {
   "cell_type": "code",
   "execution_count": 6,
   "id": "d4347f4b-109a-487a-8bb1-740530d812e0",
   "metadata": {},
   "outputs": [
    {
     "data": {
      "text/html": [
       "<div>\n",
       "<style scoped>\n",
       "    .dataframe tbody tr th:only-of-type {\n",
       "        vertical-align: middle;\n",
       "    }\n",
       "\n",
       "    .dataframe tbody tr th {\n",
       "        vertical-align: top;\n",
       "    }\n",
       "\n",
       "    .dataframe thead th {\n",
       "        text-align: right;\n",
       "    }\n",
       "</style>\n",
       "<table border=\"1\" class=\"dataframe\">\n",
       "  <thead>\n",
       "    <tr style=\"text-align: right;\">\n",
       "      <th></th>\n",
       "      <th>Player ID</th>\n",
       "      <th>firstName</th>\n",
       "      <th>lastName</th>\n",
       "      <th>nationality</th>\n",
       "    </tr>\n",
       "    <tr>\n",
       "      <th>Shooting / Catching Hand</th>\n",
       "      <th></th>\n",
       "      <th></th>\n",
       "      <th></th>\n",
       "      <th></th>\n",
       "    </tr>\n",
       "  </thead>\n",
       "  <tbody>\n",
       "    <tr>\n",
       "      <th>Left</th>\n",
       "      <td>8466148</td>\n",
       "      <td>Marian</td>\n",
       "      <td>Hossa</td>\n",
       "      <td>SVK</td>\n",
       "    </tr>\n",
       "    <tr>\n",
       "      <th>Right</th>\n",
       "      <td>8465058</td>\n",
       "      <td>Michal</td>\n",
       "      <td>Rozsival</td>\n",
       "      <td>CZE</td>\n",
       "    </tr>\n",
       "    <tr>\n",
       "      <th>Left</th>\n",
       "      <td>8476906</td>\n",
       "      <td>Shayne</td>\n",
       "      <td>Gostisbehere</td>\n",
       "      <td>USA</td>\n",
       "    </tr>\n",
       "    <tr>\n",
       "      <th>Left</th>\n",
       "      <td>8466285</td>\n",
       "      <td>Brian</td>\n",
       "      <td>Campbell</td>\n",
       "      <td>CAN</td>\n",
       "    </tr>\n",
       "    <tr>\n",
       "      <th>Right</th>\n",
       "      <td>8470607</td>\n",
       "      <td>Brent</td>\n",
       "      <td>Seabrook</td>\n",
       "      <td>CAN</td>\n",
       "    </tr>\n",
       "    <tr>\n",
       "      <th>...</th>\n",
       "      <td>...</td>\n",
       "      <td>...</td>\n",
       "      <td>...</td>\n",
       "      <td>...</td>\n",
       "    </tr>\n",
       "    <tr>\n",
       "      <th>Left</th>\n",
       "      <td>8479374</td>\n",
       "      <td>Adam</td>\n",
       "      <td>Mascherin</td>\n",
       "      <td>CAN</td>\n",
       "    </tr>\n",
       "    <tr>\n",
       "      <th>Left</th>\n",
       "      <td>8479403</td>\n",
       "      <td>Tyler</td>\n",
       "      <td>Parsons</td>\n",
       "      <td>USA</td>\n",
       "    </tr>\n",
       "    <tr>\n",
       "      <th>Left</th>\n",
       "      <td>8480970</td>\n",
       "      <td>Marcus</td>\n",
       "      <td>Hogstrom</td>\n",
       "      <td>SWE</td>\n",
       "    </tr>\n",
       "    <tr>\n",
       "      <th>Left</th>\n",
       "      <td>8477574</td>\n",
       "      <td>Parker</td>\n",
       "      <td>Milner</td>\n",
       "      <td>USA</td>\n",
       "    </tr>\n",
       "    <tr>\n",
       "      <th>Right</th>\n",
       "      <td>8477352</td>\n",
       "      <td>Ryan</td>\n",
       "      <td>Fitzgerald</td>\n",
       "      <td>USA</td>\n",
       "    </tr>\n",
       "  </tbody>\n",
       "</table>\n",
       "<p>3925 rows × 4 columns</p>\n",
       "</div>"
      ],
      "text/plain": [
       "                          Player ID firstName      lastName nationality\n",
       "Shooting / Catching Hand                                               \n",
       "Left                        8466148    Marian         Hossa         SVK\n",
       "Right                       8465058    Michal      Rozsival         CZE\n",
       "Left                        8476906    Shayne  Gostisbehere         USA\n",
       "Left                        8466285     Brian      Campbell         CAN\n",
       "Right                       8470607     Brent      Seabrook         CAN\n",
       "...                             ...       ...           ...         ...\n",
       "Left                        8479374      Adam     Mascherin         CAN\n",
       "Left                        8479403     Tyler       Parsons         USA\n",
       "Left                        8480970    Marcus      Hogstrom         SWE\n",
       "Left                        8477574    Parker        Milner         USA\n",
       "Right                       8477352      Ryan    Fitzgerald         USA\n",
       "\n",
       "[3925 rows x 4 columns]"
      ]
     },
     "execution_count": 6,
     "metadata": {},
     "output_type": "execute_result"
    }
   ],
   "source": [
    "load_and_process()"
   ]
  },
  {
   "cell_type": "markdown",
   "id": "f1efd6f0-1957-42c0-b4e6-ce3bfdd047eb",
   "metadata": {},
   "source": [
    "I wrote a function that would take the raw dataset csv file and clean, wrangle, and process the data I want to look at all in one line of code. The main alterations I made to the dataset was to remove unecessary columns, rename some of the column titles to provide more clarity, and rename the variables in the Shooting / Catching hand to remove the abbreviated L and R values    "
   ]
  },
  {
   "cell_type": "code",
   "execution_count": 7,
   "id": "2f11cec6-c682-4811-987d-a1fde50b382e",
   "metadata": {},
   "outputs": [],
   "source": [
    "df1 = df"
   ]
  },
  {
   "cell_type": "code",
   "execution_count": 8,
   "id": "9c948f96-a9e9-4d05-9693-3ac7ceca69d8",
   "metadata": {},
   "outputs": [],
   "source": [
    "df1 = df.drop(['birthCity','birthDate','birthStateProvince','height','primaryPosition','height_cm','weight'], axis='columns')"
   ]
  },
  {
   "cell_type": "code",
   "execution_count": 9,
   "id": "64707810-02c1-4ddf-af5d-b1c170356ae9",
   "metadata": {},
   "outputs": [],
   "source": [
    "df1['shootsCatches'] = df1['shootsCatches'].replace(['L','R'],['1','2'])"
   ]
  },
  {
   "cell_type": "code",
   "execution_count": 10,
   "id": "6d9ab061-8ce6-495b-bcae-76673bf5f080",
   "metadata": {},
   "outputs": [
    {
     "data": {
      "text/plain": [
       "0       1\n",
       "1       2\n",
       "2       1\n",
       "3       1\n",
       "4       2\n",
       "       ..\n",
       "3920    1\n",
       "3921    1\n",
       "3922    1\n",
       "3923    1\n",
       "3924    2\n",
       "Name: shootsCatches, Length: 3925, dtype: object"
      ]
     },
     "execution_count": 10,
     "metadata": {},
     "output_type": "execute_result"
    }
   ],
   "source": [
    "df1['shootsCatches'].astype(str)"
   ]
  },
  {
   "cell_type": "code",
   "execution_count": 11,
   "id": "7d0f687e-e569-4f82-9c8d-80436e9fcf09",
   "metadata": {},
   "outputs": [
    {
     "data": {
      "text/plain": [
       "0       1.0\n",
       "1       2.0\n",
       "2       1.0\n",
       "3       1.0\n",
       "4       2.0\n",
       "       ... \n",
       "3920    1.0\n",
       "3921    1.0\n",
       "3922    1.0\n",
       "3923    1.0\n",
       "3924    2.0\n",
       "Name: shootsCatches, Length: 3925, dtype: float64"
      ]
     },
     "execution_count": 11,
     "metadata": {},
     "output_type": "execute_result"
    }
   ],
   "source": [
    "pd.to_numeric(df1['shootsCatches'])"
   ]
  },
  {
   "cell_type": "code",
   "execution_count": 13,
   "id": "0013a077-c583-45d7-bbef-fd25beb9349e",
   "metadata": {},
   "outputs": [],
   "source": [
    "df1['shootsCatches'] = pd.to_numeric(df1['shootsCatches'])"
   ]
  },
  {
   "cell_type": "code",
   "execution_count": 14,
   "id": "19177d9e-43dd-4311-af5b-e821112ebe21",
   "metadata": {},
   "outputs": [
    {
     "data": {
      "text/plain": [
       "0       1.0\n",
       "1       2.0\n",
       "2       1.0\n",
       "3       1.0\n",
       "4       2.0\n",
       "       ... \n",
       "3920    1.0\n",
       "3921    1.0\n",
       "3922    1.0\n",
       "3923    1.0\n",
       "3924    2.0\n",
       "Name: shootsCatches, Length: 3925, dtype: float64"
      ]
     },
     "execution_count": 14,
     "metadata": {},
     "output_type": "execute_result"
    }
   ],
   "source": [
    "df1['shootsCatches']"
   ]
  },
  {
   "cell_type": "code",
   "execution_count": 15,
   "id": "1dc97586-1b47-47fd-893d-0142f25d3234",
   "metadata": {},
   "outputs": [
    {
     "data": {
      "text/plain": [
       "0       SVK\n",
       "1       CZE\n",
       "2       USA\n",
       "3       CAN\n",
       "4       CAN\n",
       "       ... \n",
       "3920    CAN\n",
       "3921    USA\n",
       "3922    SWE\n",
       "3923    USA\n",
       "3924    USA\n",
       "Name: nationality, Length: 3925, dtype: object"
      ]
     },
     "execution_count": 15,
     "metadata": {},
     "output_type": "execute_result"
    }
   ],
   "source": [
    "df1['nationality'].astype(str)"
   ]
  },
  {
   "cell_type": "code",
   "execution_count": 17,
   "id": "ea9dc8e0-0e71-4b18-9eca-8b1bd1eaf3c3",
   "metadata": {},
   "outputs": [
    {
     "name": "stdout",
     "output_type": "stream",
     "text": [
      "['SVK' 'CZE' 'USA' 'CAN' 'SWE' 'RUS' 'FRA' 'CHE' 'AUT' 'DEU' 'LVA' 'FIN'\n",
      " 'DNK' 'NOR' 'SVN' 'NLD' 'GBR' 'LTU' 'HRV' 'AUS' 'BLR' nan 'UKR' 'KAZ'\n",
      " 'NGA' 'BHS' 'JPN' 'POL' 'ITA']\n"
     ]
    }
   ],
   "source": [
    "print(pd.unique(df1['nationality']))"
   ]
  },
  {
   "cell_type": "code",
   "execution_count": 18,
   "id": "bac21d2e-de86-4951-9070-73878d6e7b3d",
   "metadata": {},
   "outputs": [],
   "source": [
    "df1['nationality'] = df1['nationality'].replace(['SVK','CZE','USA','CAN','SWE','RUS','FRA','CHE','AUT','DEU','LVA','FIN','DNK','NOR','SVN','NLD','GBR','LTU','HRV','AUS','BLR','nan','UKR','KAZ','NGA','BHS','JPN','POL','ITA'],['1','2','3','4','5','6','7','8','9','10','11','12','13','14','15','16','17','18','19','20','21','22','23','24','25','26','27','28','29'])"
   ]
  },
  {
   "cell_type": "code",
   "execution_count": 19,
   "id": "c35b56ba-de82-4172-8c40-085a3c5787da",
   "metadata": {},
   "outputs": [
    {
     "name": "stdout",
     "output_type": "stream",
     "text": [
      "['1' '2' '3' '4' '5' '6' '7' '8' '9' '10' '11' '12' '13' '14' '15' '16'\n",
      " '17' '18' '19' '20' '21' nan '23' '24' '25' '26' '27' '28' '29']\n"
     ]
    }
   ],
   "source": [
    "print(pd.unique(df1['nationality']))"
   ]
  },
  {
   "cell_type": "code",
   "execution_count": 20,
   "id": "f32b2e5e-ca94-48d1-a789-651903a64c08",
   "metadata": {},
   "outputs": [
    {
     "data": {
      "text/plain": [
       "0       1\n",
       "1       2\n",
       "2       3\n",
       "3       4\n",
       "4       4\n",
       "       ..\n",
       "3920    4\n",
       "3921    3\n",
       "3922    5\n",
       "3923    3\n",
       "3924    3\n",
       "Name: nationality, Length: 3925, dtype: object"
      ]
     },
     "execution_count": 20,
     "metadata": {},
     "output_type": "execute_result"
    }
   ],
   "source": [
    "df1['nationality'].astype(str)"
   ]
  },
  {
   "cell_type": "code",
   "execution_count": 22,
   "id": "4a5be396-deff-4012-8dd9-3e5364233f54",
   "metadata": {},
   "outputs": [
    {
     "data": {
      "text/plain": [
       "0       1.0\n",
       "1       2.0\n",
       "2       3.0\n",
       "3       4.0\n",
       "4       4.0\n",
       "       ... \n",
       "3920    4.0\n",
       "3921    3.0\n",
       "3922    5.0\n",
       "3923    3.0\n",
       "3924    3.0\n",
       "Name: nationality, Length: 3925, dtype: float64"
      ]
     },
     "execution_count": 22,
     "metadata": {},
     "output_type": "execute_result"
    }
   ],
   "source": [
    "pd.to_numeric(df1['nationality'])"
   ]
  },
  {
   "cell_type": "code",
   "execution_count": 23,
   "id": "db5451f3-cfbf-4812-9758-522ea053ad53",
   "metadata": {},
   "outputs": [],
   "source": [
    "df1['nationality'] = pd.to_numeric(df1['nationality'])"
   ]
  },
  {
   "cell_type": "code",
   "execution_count": 24,
   "id": "ca831aef-be59-46f3-b84b-a77b19fed9fa",
   "metadata": {},
   "outputs": [
    {
     "data": {
      "text/plain": [
       "player_id          int64\n",
       "firstName         object\n",
       "lastName          object\n",
       "nationality      float64\n",
       "shootsCatches    float64\n",
       "dtype: object"
      ]
     },
     "execution_count": 24,
     "metadata": {},
     "output_type": "execute_result"
    }
   ],
   "source": [
    "df1.dtypes"
   ]
  },
  {
   "cell_type": "markdown",
   "id": "9020c053-2b97-469f-bf6f-7e693c4ffc9f",
   "metadata": {},
   "source": [
    "The data that I wanted to work with came to be in non-numerical form and as such I was unable to plot the relaionships in the graphs that I was hoping to use. With the code above I converted the non-numerical values of both the shootsCatches and nationality columns into a numerical system. Doing so allowed me to convert the values into float64 values which would allow me to plot the information. Now I am able to use seaborn and pandas graphs to visualize the information."
   ]
  },
  {
   "cell_type": "markdown",
   "id": "6191750c-3810-4617-a1e0-283e985284b6",
   "metadata": {},
   "source": [
    "# Distribution of left vs right handedness"
   ]
  },
  {
   "cell_type": "code",
   "execution_count": 25,
   "id": "e07c81b3-3c72-4fa1-8cc1-aa1e6065ff46",
   "metadata": {},
   "outputs": [
    {
     "data": {
      "image/png": "[encoded data removed]",
      "text/plain": [
       "<Figure size 432x288 with 1 Axes>"
      ]
     },
     "metadata": {
      "needs_background": "light"
     },
     "output_type": "display_data"
    }
   ],
   "source": [
    "hist = df1['shootsCatches'].hist(bins=100)"
   ]
  },
  {
   "cell_type": "markdown",
   "id": "ad609311-2940-43a8-8420-932b7bf78a79",
   "metadata": {},
   "source": [
    "This plot shows the distribution between left and right handed players in terms of chooting and catching. In the NHL left handed shooters account for roughly 2/3 of the total player base."
   ]
  },
  {
   "cell_type": "code",
   "execution_count": 26,
   "id": "5c649541-c032-4e43-8c1d-a50cd3fab7c2",
   "metadata": {},
   "outputs": [
    {
     "data": {
      "image/png": "[encoded data removed]",
      "text/plain": [
       "<Figure size 432x288 with 1 Axes>"
      ]
     },
     "metadata": {
      "needs_background": "light"
     },
     "output_type": "display_data"
    }
   ],
   "source": [
    "sns.countplot(y='shootsCatches',data=df1)\n",
    "sns.despine()"
   ]
  },
  {
   "cell_type": "markdown",
   "id": "c7f14272-fa12-49a3-b9ee-381e349915ff",
   "metadata": {},
   "source": [
    "This is another plot of the same information regarding player handedness. This is a colour-coded plot to better visualize the difference in scale between left and right handed shooters and catchers"
   ]
  },
  {
   "cell_type": "markdown",
   "id": "35937e14-e92d-43cb-be52-70f753ef7ac8",
   "metadata": {},
   "source": [
    "# Player count in respect to Nationality"
   ]
  },
  {
   "cell_type": "code",
   "execution_count": 27,
   "id": "2bc8cf20-c69a-409d-9a69-1ffdb638a048",
   "metadata": {},
   "outputs": [
    {
     "data": {
      "image/png": "[encoded data removed]",
      "text/plain": [
       "<Figure size 1440x720 with 1 Axes>"
      ]
     },
     "metadata": {},
     "output_type": "display_data"
    }
   ],
   "source": [
    "sns.set(rc = {'figure.figsize':(20,10)})\n",
    "sns.countplot(x='nationality',data=df1,)\n",
    "sns.despine()"
   ]
  },
  {
   "cell_type": "markdown",
   "id": "dd669df8-a970-43f0-a20d-3e51402af136",
   "metadata": {},
   "source": [
    "This countplot visualizes player nationality and the total number of players from each country that is represented in the NHL. For the sake of this analysis I will focus on the top 5 countries as they have the most amount of players to analyze. The top 5 countries in terms of players are Canada, USA, Sweeden, Russia, Finlad\n",
    "Canada, USA, Sweeden, Russia, Finland"
   ]
  },
  {
   "cell_type": "markdown",
   "id": "262f42e2-9a58-4e1a-8679-923d96ffb7a9",
   "metadata": {},
   "source": [
    "# Countplot of nationality,  player count,  and shooting hand"
   ]
  },
  {
   "cell_type": "code",
   "execution_count": 28,
   "id": "729eaee8-7c94-4724-b3b8-a78b4a602fa8",
   "metadata": {},
   "outputs": [
    {
     "data": {
      "image/png": "[encoded data removed]",
      "text/plain": [
       "<Figure size 1440x720 with 1 Axes>"
      ]
     },
     "metadata": {},
     "output_type": "display_data"
    }
   ],
   "source": [
    "sns.set(rc = {'figure.figsize':(20,10)})\n",
    "sns.countplot(x='nationality',hue='shootsCatches',data=df1,)\n",
    "sns.despine()"
   ]
  },
  {
   "cell_type": "markdown",
   "id": "804aa64d-8330-49ca-958e-e3004cda1064",
   "metadata": {},
   "source": [
    "This final countplot analyzes three variables: shooting / catching hand, nationality, and total player count. After plotting this information it is clear that in the top 6 countries, in terms of player count, left handedness is the most popular style of play. There is no country within the NHL that has produced more right handed players than left. This may be because on average, right handed people shoot left handed on hockey. This information paired with the fact that on average the global population is right handed it can be used to explain a possible correlation between a right handed majority and a left handed shooting style."
   ]
  }
 ],
 "metadata": {
  "kernelspec": {
   "display_name": "Python 3",
   "language": "python",
   "name": "python3"
  },
  "language_info": {
   "codemirror_mode": {
    "name": "ipython",
    "version": 3
   },
   "file_extension": ".py",
   "mimetype": "text/x-python",
   "name": "python",
   "nbconvert_exporter": "python",
   "pygments_lexer": "ipython3",
   "version": "3.9.5"
  }
 },
 "nbformat": 4,
 "nbformat_minor": 5
}
