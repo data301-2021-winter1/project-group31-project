{
 "cells": [
  {
   "cell_type": "code",
   "execution_count": 1,
<<<<<<< HEAD
   "id": "b3b219bf-c3c3-423d-9b69-1b651299c156",
=======
   "id": "981c014d-821d-4f46-b53a-1f84ba39641e",
>>>>>>> 33c927c5087fba38dcbd126997d7b3bd2490ecaa
   "metadata": {},
   "outputs": [],
   "source": [
    "import pandas as pd\n",
    "import numpy as np"
   ]
  },
  {
   "cell_type": "code",
<<<<<<< HEAD
   "execution_count": 21,
   "id": "becd57b2-3616-451f-9a08-32f70f77d290",
   "metadata": {},
   "outputs": [],
   "source": [
    "data = pd.read_csv(\"/Users/noahandrew/school/year3/Data301/project-group31-project/player_info.csv\")"
=======
   "execution_count": 2,
   "id": "b524ca48-38ce-4be5-800e-c3dff5b2c7ea",
   "metadata": {},
   "outputs": [],
   "source": [
    "data = pd.read_csv(\"/Users/JeremyScarcella/project-group31-project/player_info.csv\")\n",
    "\n"
>>>>>>> 33c927c5087fba38dcbd126997d7b3bd2490ecaa
   ]
  },
  {
   "cell_type": "code",
<<<<<<< HEAD
   "execution_count": 22,
   "id": "34303084-1e6c-4a46-97d1-0963a5bf2081",
=======
   "execution_count": 3,
   "id": "b21d86fb-3142-45ba-970b-25177db90d99",
>>>>>>> 33c927c5087fba38dcbd126997d7b3bd2490ecaa
   "metadata": {},
   "outputs": [],
   "source": [
    "data1 = (data.drop('height', axis=1)\n",
<<<<<<< HEAD
    "         .drop('birthCity', axis=1)\n",
    "         .drop('birthDate', axis=1)\n",
    "         .drop('birthStateProvince', axis=1)\n",
    "         .drop('primaryPosition', axis=1)\n",
    "         .drop('weight', axis=1)\n",
    "         .drop('height_cm', axis=1)\n",
    "        )"
=======
    "        .drop('birthCity', axis=1)\n",
    "        .drop('birthDate', axis=1)\n",
    "        .drop('birthStateProvince', axis=1)\n",
    "        .rename(columns={\"player_id\": \"Player ID\"})\n",
    "        .set_index('primaryPosition')                                       \n",
    "        .rename(index={\"D\": \"Defence\"})\n",
    "        .rename(index={\"G\": \"Goalie\"})\n",
    "        .rename(index={\"C\": \"Center\"})\n",
    "        .rename(index={\"RW\": \"Right Wing\"})\n",
    "        .rename(index={\"LW\": \"Left Wing\"}) \n",
    "         \n",
    "        )\n",
    "\n"
>>>>>>> 33c927c5087fba38dcbd126997d7b3bd2490ecaa
   ]
  },
  {
   "cell_type": "code",
<<<<<<< HEAD
   "execution_count": 23,
   "id": "0b5f89bb-347f-482c-8509-5fdecae338bc",
=======
   "execution_count": 4,
   "id": "088caf43-126b-42d9-87e2-73fff33da67f",
>>>>>>> 33c927c5087fba38dcbd126997d7b3bd2490ecaa
   "metadata": {},
   "outputs": [
    {
     "data": {
      "text/html": [
       "<div>\n",
       "<style scoped>\n",
       "    .dataframe tbody tr th:only-of-type {\n",
       "        vertical-align: middle;\n",
       "    }\n",
       "\n",
       "    .dataframe tbody tr th {\n",
       "        vertical-align: top;\n",
       "    }\n",
       "\n",
       "    .dataframe thead th {\n",
       "        text-align: right;\n",
       "    }\n",
       "</style>\n",
       "<table border=\"1\" class=\"dataframe\">\n",
       "  <thead>\n",
       "    <tr style=\"text-align: right;\">\n",
       "      <th></th>\n",
<<<<<<< HEAD
       "      <th>player_id</th>\n",
       "      <th>firstName</th>\n",
       "      <th>lastName</th>\n",
       "      <th>nationality</th>\n",
       "      <th>shootsCatches</th>\n",
       "    </tr>\n",
       "  </thead>\n",
       "  <tbody>\n",
       "    <tr>\n",
       "      <th>0</th>\n",
=======
       "      <th>Player ID</th>\n",
       "      <th>firstName</th>\n",
       "      <th>lastName</th>\n",
       "      <th>nationality</th>\n",
       "      <th>height_cm</th>\n",
       "      <th>weight</th>\n",
       "      <th>shootsCatches</th>\n",
       "    </tr>\n",
       "    <tr>\n",
       "      <th>primaryPosition</th>\n",
       "      <th></th>\n",
       "      <th></th>\n",
       "      <th></th>\n",
       "      <th></th>\n",
       "      <th></th>\n",
       "      <th></th>\n",
       "      <th></th>\n",
       "    </tr>\n",
       "  </thead>\n",
       "  <tbody>\n",
       "    <tr>\n",
       "      <th>Right Wing</th>\n",
>>>>>>> 33c927c5087fba38dcbd126997d7b3bd2490ecaa
       "      <td>8466148</td>\n",
       "      <td>Marian</td>\n",
       "      <td>Hossa</td>\n",
       "      <td>SVK</td>\n",
<<<<<<< HEAD
       "      <td>L</td>\n",
       "    </tr>\n",
       "    <tr>\n",
       "      <th>1</th>\n",
=======
       "      <td>185.42</td>\n",
       "      <td>207.0</td>\n",
       "      <td>L</td>\n",
       "    </tr>\n",
       "    <tr>\n",
       "      <th>Defence</th>\n",
>>>>>>> 33c927c5087fba38dcbd126997d7b3bd2490ecaa
       "      <td>8465058</td>\n",
       "      <td>Michal</td>\n",
       "      <td>Rozsival</td>\n",
       "      <td>CZE</td>\n",
<<<<<<< HEAD
       "      <td>R</td>\n",
       "    </tr>\n",
       "    <tr>\n",
       "      <th>2</th>\n",
=======
       "      <td>185.42</td>\n",
       "      <td>210.0</td>\n",
       "      <td>R</td>\n",
       "    </tr>\n",
       "    <tr>\n",
       "      <th>Defence</th>\n",
>>>>>>> 33c927c5087fba38dcbd126997d7b3bd2490ecaa
       "      <td>8476906</td>\n",
       "      <td>Shayne</td>\n",
       "      <td>Gostisbehere</td>\n",
       "      <td>USA</td>\n",
<<<<<<< HEAD
       "      <td>L</td>\n",
       "    </tr>\n",
       "    <tr>\n",
       "      <th>3</th>\n",
=======
       "      <td>180.34</td>\n",
       "      <td>180.0</td>\n",
       "      <td>L</td>\n",
       "    </tr>\n",
       "    <tr>\n",
       "      <th>Defence</th>\n",
>>>>>>> 33c927c5087fba38dcbd126997d7b3bd2490ecaa
       "      <td>8466285</td>\n",
       "      <td>Brian</td>\n",
       "      <td>Campbell</td>\n",
       "      <td>CAN</td>\n",
<<<<<<< HEAD
       "      <td>L</td>\n",
       "    </tr>\n",
       "    <tr>\n",
       "      <th>4</th>\n",
=======
       "      <td>177.80</td>\n",
       "      <td>192.0</td>\n",
       "      <td>L</td>\n",
       "    </tr>\n",
       "    <tr>\n",
       "      <th>Defence</th>\n",
>>>>>>> 33c927c5087fba38dcbd126997d7b3bd2490ecaa
       "      <td>8470607</td>\n",
       "      <td>Brent</td>\n",
       "      <td>Seabrook</td>\n",
       "      <td>CAN</td>\n",
<<<<<<< HEAD
=======
       "      <td>190.50</td>\n",
       "      <td>220.0</td>\n",
>>>>>>> 33c927c5087fba38dcbd126997d7b3bd2490ecaa
       "      <td>R</td>\n",
       "    </tr>\n",
       "    <tr>\n",
       "      <th>...</th>\n",
       "      <td>...</td>\n",
       "      <td>...</td>\n",
       "      <td>...</td>\n",
       "      <td>...</td>\n",
       "      <td>...</td>\n",
<<<<<<< HEAD
       "    </tr>\n",
       "    <tr>\n",
       "      <th>3920</th>\n",
=======
       "      <td>...</td>\n",
       "      <td>...</td>\n",
       "    </tr>\n",
       "    <tr>\n",
       "      <th>Left Wing</th>\n",
>>>>>>> 33c927c5087fba38dcbd126997d7b3bd2490ecaa
       "      <td>8479374</td>\n",
       "      <td>Adam</td>\n",
       "      <td>Mascherin</td>\n",
       "      <td>CAN</td>\n",
<<<<<<< HEAD
       "      <td>L</td>\n",
       "    </tr>\n",
       "    <tr>\n",
       "      <th>3921</th>\n",
=======
       "      <td>177.80</td>\n",
       "      <td>205.0</td>\n",
       "      <td>L</td>\n",
       "    </tr>\n",
       "    <tr>\n",
       "      <th>Goalie</th>\n",
>>>>>>> 33c927c5087fba38dcbd126997d7b3bd2490ecaa
       "      <td>8479403</td>\n",
       "      <td>Tyler</td>\n",
       "      <td>Parsons</td>\n",
       "      <td>USA</td>\n",
<<<<<<< HEAD
       "      <td>L</td>\n",
       "    </tr>\n",
       "    <tr>\n",
       "      <th>3922</th>\n",
=======
       "      <td>185.42</td>\n",
       "      <td>185.0</td>\n",
       "      <td>L</td>\n",
       "    </tr>\n",
       "    <tr>\n",
       "      <th>Defence</th>\n",
>>>>>>> 33c927c5087fba38dcbd126997d7b3bd2490ecaa
       "      <td>8480970</td>\n",
       "      <td>Marcus</td>\n",
       "      <td>Hogstrom</td>\n",
       "      <td>SWE</td>\n",
<<<<<<< HEAD
       "      <td>L</td>\n",
       "    </tr>\n",
       "    <tr>\n",
       "      <th>3923</th>\n",
=======
       "      <td>193.04</td>\n",
       "      <td>200.0</td>\n",
       "      <td>L</td>\n",
       "    </tr>\n",
       "    <tr>\n",
       "      <th>Goalie</th>\n",
>>>>>>> 33c927c5087fba38dcbd126997d7b3bd2490ecaa
       "      <td>8477574</td>\n",
       "      <td>Parker</td>\n",
       "      <td>Milner</td>\n",
       "      <td>USA</td>\n",
<<<<<<< HEAD
       "      <td>L</td>\n",
       "    </tr>\n",
       "    <tr>\n",
       "      <th>3924</th>\n",
=======
       "      <td>185.42</td>\n",
       "      <td>185.0</td>\n",
       "      <td>L</td>\n",
       "    </tr>\n",
       "    <tr>\n",
       "      <th>Center</th>\n",
>>>>>>> 33c927c5087fba38dcbd126997d7b3bd2490ecaa
       "      <td>8477352</td>\n",
       "      <td>Ryan</td>\n",
       "      <td>Fitzgerald</td>\n",
       "      <td>USA</td>\n",
<<<<<<< HEAD
=======
       "      <td>175.26</td>\n",
       "      <td>172.0</td>\n",
>>>>>>> 33c927c5087fba38dcbd126997d7b3bd2490ecaa
       "      <td>R</td>\n",
       "    </tr>\n",
       "  </tbody>\n",
       "</table>\n",
<<<<<<< HEAD
       "<p>3925 rows × 5 columns</p>\n",
       "</div>"
      ],
      "text/plain": [
       "      player_id firstName      lastName nationality shootsCatches\n",
       "0       8466148    Marian         Hossa         SVK             L\n",
       "1       8465058    Michal      Rozsival         CZE             R\n",
       "2       8476906    Shayne  Gostisbehere         USA             L\n",
       "3       8466285     Brian      Campbell         CAN             L\n",
       "4       8470607     Brent      Seabrook         CAN             R\n",
       "...         ...       ...           ...         ...           ...\n",
       "3920    8479374      Adam     Mascherin         CAN             L\n",
       "3921    8479403     Tyler       Parsons         USA             L\n",
       "3922    8480970    Marcus      Hogstrom         SWE             L\n",
       "3923    8477574    Parker        Milner         USA             L\n",
       "3924    8477352      Ryan    Fitzgerald         USA             R\n",
       "\n",
       "[3925 rows x 5 columns]"
      ]
     },
     "execution_count": 23,
=======
       "<p>3925 rows × 7 columns</p>\n",
       "</div>"
      ],
      "text/plain": [
       "                 Player ID firstName      lastName nationality  height_cm  \\\n",
       "primaryPosition                                                             \n",
       "Right Wing         8466148    Marian         Hossa         SVK     185.42   \n",
       "Defence            8465058    Michal      Rozsival         CZE     185.42   \n",
       "Defence            8476906    Shayne  Gostisbehere         USA     180.34   \n",
       "Defence            8466285     Brian      Campbell         CAN     177.80   \n",
       "Defence            8470607     Brent      Seabrook         CAN     190.50   \n",
       "...                    ...       ...           ...         ...        ...   \n",
       "Left Wing          8479374      Adam     Mascherin         CAN     177.80   \n",
       "Goalie             8479403     Tyler       Parsons         USA     185.42   \n",
       "Defence            8480970    Marcus      Hogstrom         SWE     193.04   \n",
       "Goalie             8477574    Parker        Milner         USA     185.42   \n",
       "Center             8477352      Ryan    Fitzgerald         USA     175.26   \n",
       "\n",
       "                 weight shootsCatches  \n",
       "primaryPosition                        \n",
       "Right Wing        207.0             L  \n",
       "Defence           210.0             R  \n",
       "Defence           180.0             L  \n",
       "Defence           192.0             L  \n",
       "Defence           220.0             R  \n",
       "...                 ...           ...  \n",
       "Left Wing         205.0             L  \n",
       "Goalie            185.0             L  \n",
       "Defence           200.0             L  \n",
       "Goalie            185.0             L  \n",
       "Center            172.0             R  \n",
       "\n",
       "[3925 rows x 7 columns]"
      ]
     },
     "execution_count": 4,
>>>>>>> 33c927c5087fba38dcbd126997d7b3bd2490ecaa
     "metadata": {},
     "output_type": "execute_result"
    }
   ],
   "source": [
    "data1"
   ]
  },
  {
   "cell_type": "code",
<<<<<<< HEAD
   "execution_count": 11,
   "id": "9c0d1be6-bbbb-45bf-bcf7-cb74565da40a",
   "metadata": {},
   "outputs": [],
   "source": [
    "## Step 2 - Functions"
=======
   "execution_count": 5,
   "id": "960410d9-9dc7-4c6e-b701-ff6d55efac75",
   "metadata": {},
   "outputs": [],
   "source": [
    "## Step2"
>>>>>>> 33c927c5087fba38dcbd126997d7b3bd2490ecaa
   ]
  },
  {
   "cell_type": "code",
<<<<<<< HEAD
   "execution_count": 35,
   "id": "bd46c71b-3faf-4845-84d8-e3db33ea2a6e",
=======
   "execution_count": 20,
   "id": "9eebc268-3b7a-4fff-b0bf-8ab70cf366f0",
>>>>>>> 33c927c5087fba38dcbd126997d7b3bd2490ecaa
   "metadata": {},
   "outputs": [],
   "source": [
    "def load_and_process():\n",
    "\n",
<<<<<<< HEAD
    "    df1 = (\n",
    "        pd.read_csv(\"/Users/noahandrew/school/year3/Data301/project-group31-project/player_info.csv\")\n",
    "        .drop('birthCity', axis=1)\n",
    "        .drop('birthDate', axis=1)\n",
    "        .drop('birthStateProvince', axis=1)\n",
    "        .drop('primaryPosition', axis=1)\n",
    "        .drop('weight', axis=1)\n",
    "        .drop('height_cm', axis=1)\n",
    "        .drop('height', axis=1)\n",
    "    )\n",
    "    \n",
    "    df2 = (\n",
    "            df1\n",
    "            .rename(columns={'shootsCatches': 'Shooting / Catching Hand'})\n",
    "            .rename(columns={'player_id': 'Player ID'})\n",
    "            .set_index('Shooting / Catching Hand')                                       \n",
    "            .rename(index={'L': 'Left'})\n",
    "            .rename(index={'R': 'Right'})\n",
    "       \n",
    "    )\n",
    "    \n",
    "    return df2\n",
    "                \n",
    "        "
=======
    "\n",
    "        df1 = (\n",
    "                pd.read_csv(\"/Users/JeremyScarcella/project-group31-project/player_info.csv\")\n",
    "                .drop('height', axis=1)\n",
    "                .drop('birthCity', axis=1)\n",
    "                .drop('birthDate', axis=1)\n",
    "                .drop('birthStateProvince', axis=1)\n",
    "        )\n",
    "        \n",
    "        \n",
    "        \n",
    "        df2 = (\n",
    "                df1\n",
    "                .rename(columns={\"player_id\": \"Player ID\"})\n",
    "                .set_index('primaryPosition')                                       \n",
    "                .rename(index={\"D\": \"Defence\"})\n",
    "                .rename(index={\"G\": \"Goalie\"})\n",
    "                .rename(index={\"C\": \"Center\"})\n",
    "                .rename(index={\"RW\": \"Right Wing\"})\n",
    "                .rename(index={\"LW\": \"Left Wing\"})\n",
    "        )\n",
    "        \n",
    "        return df2\n",
    "  "
>>>>>>> 33c927c5087fba38dcbd126997d7b3bd2490ecaa
   ]
  },
  {
   "cell_type": "code",
<<<<<<< HEAD
   "execution_count": 36,
   "id": "c8ae609b-2501-492f-9d61-bb57601bebf1",
=======
   "execution_count": 21,
   "id": "c1bf5a20-ee78-4d62-aa5f-373eba4ecfe0",
>>>>>>> 33c927c5087fba38dcbd126997d7b3bd2490ecaa
   "metadata": {},
   "outputs": [
    {
     "data": {
      "text/html": [
       "<div>\n",
       "<style scoped>\n",
       "    .dataframe tbody tr th:only-of-type {\n",
       "        vertical-align: middle;\n",
       "    }\n",
       "\n",
       "    .dataframe tbody tr th {\n",
       "        vertical-align: top;\n",
       "    }\n",
       "\n",
       "    .dataframe thead th {\n",
       "        text-align: right;\n",
       "    }\n",
       "</style>\n",
       "<table border=\"1\" class=\"dataframe\">\n",
       "  <thead>\n",
       "    <tr style=\"text-align: right;\">\n",
       "      <th></th>\n",
       "      <th>Player ID</th>\n",
       "      <th>firstName</th>\n",
       "      <th>lastName</th>\n",
       "      <th>nationality</th>\n",
<<<<<<< HEAD
       "    </tr>\n",
       "    <tr>\n",
       "      <th>Shooting / Catching Hand</th>\n",
=======
       "      <th>height_cm</th>\n",
       "      <th>weight</th>\n",
       "      <th>shootsCatches</th>\n",
       "    </tr>\n",
       "    <tr>\n",
       "      <th>primaryPosition</th>\n",
       "      <th></th>\n",
       "      <th></th>\n",
       "      <th></th>\n",
>>>>>>> 33c927c5087fba38dcbd126997d7b3bd2490ecaa
       "      <th></th>\n",
       "      <th></th>\n",
       "      <th></th>\n",
       "      <th></th>\n",
       "    </tr>\n",
       "  </thead>\n",
       "  <tbody>\n",
       "    <tr>\n",
<<<<<<< HEAD
       "      <th>Left</th>\n",
=======
       "      <th>Right Wing</th>\n",
>>>>>>> 33c927c5087fba38dcbd126997d7b3bd2490ecaa
       "      <td>8466148</td>\n",
       "      <td>Marian</td>\n",
       "      <td>Hossa</td>\n",
       "      <td>SVK</td>\n",
<<<<<<< HEAD
       "    </tr>\n",
       "    <tr>\n",
       "      <th>Right</th>\n",
=======
       "      <td>185.42</td>\n",
       "      <td>207.0</td>\n",
       "      <td>L</td>\n",
       "    </tr>\n",
       "    <tr>\n",
       "      <th>Defence</th>\n",
>>>>>>> 33c927c5087fba38dcbd126997d7b3bd2490ecaa
       "      <td>8465058</td>\n",
       "      <td>Michal</td>\n",
       "      <td>Rozsival</td>\n",
       "      <td>CZE</td>\n",
<<<<<<< HEAD
       "    </tr>\n",
       "    <tr>\n",
       "      <th>Left</th>\n",
=======
       "      <td>185.42</td>\n",
       "      <td>210.0</td>\n",
       "      <td>R</td>\n",
       "    </tr>\n",
       "    <tr>\n",
       "      <th>Defence</th>\n",
>>>>>>> 33c927c5087fba38dcbd126997d7b3bd2490ecaa
       "      <td>8476906</td>\n",
       "      <td>Shayne</td>\n",
       "      <td>Gostisbehere</td>\n",
       "      <td>USA</td>\n",
<<<<<<< HEAD
       "    </tr>\n",
       "    <tr>\n",
       "      <th>Left</th>\n",
=======
       "      <td>180.34</td>\n",
       "      <td>180.0</td>\n",
       "      <td>L</td>\n",
       "    </tr>\n",
       "    <tr>\n",
       "      <th>Defence</th>\n",
>>>>>>> 33c927c5087fba38dcbd126997d7b3bd2490ecaa
       "      <td>8466285</td>\n",
       "      <td>Brian</td>\n",
       "      <td>Campbell</td>\n",
       "      <td>CAN</td>\n",
<<<<<<< HEAD
       "    </tr>\n",
       "    <tr>\n",
       "      <th>Right</th>\n",
=======
       "      <td>177.80</td>\n",
       "      <td>192.0</td>\n",
       "      <td>L</td>\n",
       "    </tr>\n",
       "    <tr>\n",
       "      <th>Defence</th>\n",
>>>>>>> 33c927c5087fba38dcbd126997d7b3bd2490ecaa
       "      <td>8470607</td>\n",
       "      <td>Brent</td>\n",
       "      <td>Seabrook</td>\n",
       "      <td>CAN</td>\n",
<<<<<<< HEAD
=======
       "      <td>190.50</td>\n",
       "      <td>220.0</td>\n",
       "      <td>R</td>\n",
>>>>>>> 33c927c5087fba38dcbd126997d7b3bd2490ecaa
       "    </tr>\n",
       "    <tr>\n",
       "      <th>...</th>\n",
       "      <td>...</td>\n",
       "      <td>...</td>\n",
       "      <td>...</td>\n",
       "      <td>...</td>\n",
<<<<<<< HEAD
       "    </tr>\n",
       "    <tr>\n",
       "      <th>Left</th>\n",
=======
       "      <td>...</td>\n",
       "      <td>...</td>\n",
       "      <td>...</td>\n",
       "    </tr>\n",
       "    <tr>\n",
       "      <th>Left Wing</th>\n",
>>>>>>> 33c927c5087fba38dcbd126997d7b3bd2490ecaa
       "      <td>8479374</td>\n",
       "      <td>Adam</td>\n",
       "      <td>Mascherin</td>\n",
       "      <td>CAN</td>\n",
<<<<<<< HEAD
       "    </tr>\n",
       "    <tr>\n",
       "      <th>Left</th>\n",
=======
       "      <td>177.80</td>\n",
       "      <td>205.0</td>\n",
       "      <td>L</td>\n",
       "    </tr>\n",
       "    <tr>\n",
       "      <th>Goalie</th>\n",
>>>>>>> 33c927c5087fba38dcbd126997d7b3bd2490ecaa
       "      <td>8479403</td>\n",
       "      <td>Tyler</td>\n",
       "      <td>Parsons</td>\n",
       "      <td>USA</td>\n",
<<<<<<< HEAD
       "    </tr>\n",
       "    <tr>\n",
       "      <th>Left</th>\n",
=======
       "      <td>185.42</td>\n",
       "      <td>185.0</td>\n",
       "      <td>L</td>\n",
       "    </tr>\n",
       "    <tr>\n",
       "      <th>Defence</th>\n",
>>>>>>> 33c927c5087fba38dcbd126997d7b3bd2490ecaa
       "      <td>8480970</td>\n",
       "      <td>Marcus</td>\n",
       "      <td>Hogstrom</td>\n",
       "      <td>SWE</td>\n",
<<<<<<< HEAD
       "    </tr>\n",
       "    <tr>\n",
       "      <th>Left</th>\n",
=======
       "      <td>193.04</td>\n",
       "      <td>200.0</td>\n",
       "      <td>L</td>\n",
       "    </tr>\n",
       "    <tr>\n",
       "      <th>Goalie</th>\n",
>>>>>>> 33c927c5087fba38dcbd126997d7b3bd2490ecaa
       "      <td>8477574</td>\n",
       "      <td>Parker</td>\n",
       "      <td>Milner</td>\n",
       "      <td>USA</td>\n",
<<<<<<< HEAD
       "    </tr>\n",
       "    <tr>\n",
       "      <th>Right</th>\n",
=======
       "      <td>185.42</td>\n",
       "      <td>185.0</td>\n",
       "      <td>L</td>\n",
       "    </tr>\n",
       "    <tr>\n",
       "      <th>Center</th>\n",
>>>>>>> 33c927c5087fba38dcbd126997d7b3bd2490ecaa
       "      <td>8477352</td>\n",
       "      <td>Ryan</td>\n",
       "      <td>Fitzgerald</td>\n",
       "      <td>USA</td>\n",
<<<<<<< HEAD
       "    </tr>\n",
       "  </tbody>\n",
       "</table>\n",
       "<p>3925 rows × 4 columns</p>\n",
       "</div>"
      ],
      "text/plain": [
       "                          Player ID firstName      lastName nationality\n",
       "Shooting / Catching Hand                                               \n",
       "Left                        8466148    Marian         Hossa         SVK\n",
       "Right                       8465058    Michal      Rozsival         CZE\n",
       "Left                        8476906    Shayne  Gostisbehere         USA\n",
       "Left                        8466285     Brian      Campbell         CAN\n",
       "Right                       8470607     Brent      Seabrook         CAN\n",
       "...                             ...       ...           ...         ...\n",
       "Left                        8479374      Adam     Mascherin         CAN\n",
       "Left                        8479403     Tyler       Parsons         USA\n",
       "Left                        8480970    Marcus      Hogstrom         SWE\n",
       "Left                        8477574    Parker        Milner         USA\n",
       "Right                       8477352      Ryan    Fitzgerald         USA\n",
       "\n",
       "[3925 rows x 4 columns]"
      ]
     },
     "execution_count": 36,
=======
       "      <td>175.26</td>\n",
       "      <td>172.0</td>\n",
       "      <td>R</td>\n",
       "    </tr>\n",
       "  </tbody>\n",
       "</table>\n",
       "<p>3925 rows × 7 columns</p>\n",
       "</div>"
      ],
      "text/plain": [
       "                 Player ID firstName      lastName nationality  height_cm  \\\n",
       "primaryPosition                                                             \n",
       "Right Wing         8466148    Marian         Hossa         SVK     185.42   \n",
       "Defence            8465058    Michal      Rozsival         CZE     185.42   \n",
       "Defence            8476906    Shayne  Gostisbehere         USA     180.34   \n",
       "Defence            8466285     Brian      Campbell         CAN     177.80   \n",
       "Defence            8470607     Brent      Seabrook         CAN     190.50   \n",
       "...                    ...       ...           ...         ...        ...   \n",
       "Left Wing          8479374      Adam     Mascherin         CAN     177.80   \n",
       "Goalie             8479403     Tyler       Parsons         USA     185.42   \n",
       "Defence            8480970    Marcus      Hogstrom         SWE     193.04   \n",
       "Goalie             8477574    Parker        Milner         USA     185.42   \n",
       "Center             8477352      Ryan    Fitzgerald         USA     175.26   \n",
       "\n",
       "                 weight shootsCatches  \n",
       "primaryPosition                        \n",
       "Right Wing        207.0             L  \n",
       "Defence           210.0             R  \n",
       "Defence           180.0             L  \n",
       "Defence           192.0             L  \n",
       "Defence           220.0             R  \n",
       "...                 ...           ...  \n",
       "Left Wing         205.0             L  \n",
       "Goalie            185.0             L  \n",
       "Defence           200.0             L  \n",
       "Goalie            185.0             L  \n",
       "Center            172.0             R  \n",
       "\n",
       "[3925 rows x 7 columns]"
      ]
     },
     "execution_count": 21,
>>>>>>> 33c927c5087fba38dcbd126997d7b3bd2490ecaa
     "metadata": {},
     "output_type": "execute_result"
    }
   ],
   "source": [
    "load_and_process()"
   ]
  },
  {
   "cell_type": "code",
   "execution_count": null,
<<<<<<< HEAD
   "id": "33c41386-f4b1-4a10-b20a-3c8d16430b6d",
=======
   "id": "bcf7c2e3-e989-40d3-ad1d-8ed3b0483f0c",
   "metadata": {},
   "outputs": [],
   "source": []
  },
  {
   "cell_type": "code",
   "execution_count": null,
   "id": "d2f9f651-c393-46de-b213-7d8bc2bdf40d",
   "metadata": {},
   "outputs": [],
   "source": []
  },
  {
   "cell_type": "code",
   "execution_count": null,
   "id": "2a4a159b-5f1c-4a79-a658-0b49e09fe779",
   "metadata": {},
   "outputs": [],
   "source": []
  },
  {
   "cell_type": "code",
   "execution_count": null,
   "id": "1f924125-1fb5-4f7c-bbac-346267d3c3c4",
   "metadata": {},
   "outputs": [],
   "source": []
  },
  {
   "cell_type": "code",
   "execution_count": null,
   "id": "0a5e07bb-18f7-460f-b34e-fd9a85e2083d",
>>>>>>> 33c927c5087fba38dcbd126997d7b3bd2490ecaa
   "metadata": {},
   "outputs": [],
   "source": []
  }
 ],
 "metadata": {
  "kernelspec": {
   "display_name": "Python 3",
   "language": "python",
   "name": "python3"
  },
  "language_info": {
   "codemirror_mode": {
    "name": "ipython",
    "version": 3
   },
   "file_extension": ".py",
   "mimetype": "text/x-python",
   "name": "python",
   "nbconvert_exporter": "python",
   "pygments_lexer": "ipython3",
   "version": "3.9.5"
  }
 },
 "nbformat": 4,
 "nbformat_minor": 5
}
